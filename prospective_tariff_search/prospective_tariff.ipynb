{
 "cells": [
  {
   "cell_type": "markdown",
   "metadata": {
    "toc": true
   },
   "source": [
    "<h1>Содержание<span class=\"tocSkip\"></span></h1>\n",
    "<div class=\"toc\"><ul class=\"toc-item\"><li><span><a href=\"#Изучение-данных-из-файла\" data-toc-modified-id=\"Изучение-данных-из-файла-1\"><span class=\"toc-item-num\">1&nbsp;&nbsp;</span>Изучение данных из файла</a></span><ul class=\"toc-item\"><li><span><a href=\"#Вывод\" data-toc-modified-id=\"Вывод-1.1\"><span class=\"toc-item-num\">1.1&nbsp;&nbsp;</span>Вывод</a></span></li></ul></li><li><span><a href=\"#Предобработка-данных\" data-toc-modified-id=\"Предобработка-данных-2\"><span class=\"toc-item-num\">2&nbsp;&nbsp;</span>Предобработка данных</a></span><ul class=\"toc-item\"><li><span><a href=\"#Вывод\" data-toc-modified-id=\"Вывод-2.1\"><span class=\"toc-item-num\">2.1&nbsp;&nbsp;</span>Вывод</a></span></li></ul></li><li><span><a href=\"#Анализ-данных,-расчёты-и-добавление-результатов-в-таблицу\" data-toc-modified-id=\"Анализ-данных,-расчёты-и-добавление-результатов-в-таблицу-3\"><span class=\"toc-item-num\">3&nbsp;&nbsp;</span>Анализ данных, расчёты и добавление результатов в таблицу</a></span><ul class=\"toc-item\"><li><span><a href=\"#Вывод\" data-toc-modified-id=\"Вывод-3.1\"><span class=\"toc-item-num\">3.1&nbsp;&nbsp;</span>Вывод</a></span></li></ul></li><li><span><a href=\"#Проверка-гипотез\" data-toc-modified-id=\"Проверка-гипотез-4\"><span class=\"toc-item-num\">4&nbsp;&nbsp;</span>Проверка гипотез</a></span><ul class=\"toc-item\"><li><span><a href=\"#Вывод\" data-toc-modified-id=\"Вывод-4.1\"><span class=\"toc-item-num\">4.1&nbsp;&nbsp;</span>Вывод</a></span></li></ul></li><li><span><a href=\"#Общий-вывод\" data-toc-modified-id=\"Общий-вывод-5\"><span class=\"toc-item-num\">5&nbsp;&nbsp;</span>Общий вывод</a></span></li></ul></div>"
   ]
  },
  {
   "cell_type": "markdown",
   "metadata": {},
   "source": [
    "# Определение перспективного тарифа для телеком-компании"
   ]
  },
  {
   "cell_type": "markdown",
   "metadata": {},
   "source": [
    "«Мегалайн» — федеральный оператор сотовой связи, предлагающий клиентам два тарифных плана: «Смарт» и «Ультра». Чтобы скорректировать рекламный бюджет, коммерческий департамент хочет понять, какой тариф приносит больше денег.\n",
    "\n",
    "Предстоит сделать предварительный анализ тарифов на небольшой выборке клиентов. В нашем распоряжении данные 500 пользователей «Мегалайна»: кто они, откуда, каким тарифом пользуются, сколько звонков и сообщений каждый отправил за 2018 год. Нужно проанализировать поведение клиентов и сделать вывод — какой тариф лучше.\n",
    "\n",
    "Описание тарифов\n",
    "\n",
    "Тариф «Смарт»\n",
    "\n",
    "- Ежемесячная плата: 550 рублей\n",
    "\n",
    "- Включено 500 минут разговора, 50 сообщений и 15 Гб интернет-трафика\n",
    "\n",
    "- Стоимость услуг сверх тарифного пакета:\n",
    "\n",
    "- минута разговора: 3 рубля\n",
    "\n",
    "- сообщение: 3 рубля\n",
    "\n",
    "- 1 Гб интернет-трафика: 200 рублей\n",
    "\n",
    "Тариф «Ультра»\n",
    "\n",
    "- Ежемесячная плата: 1950 рублей\n",
    "\n",
    "- Включено 3000 минут разговора, 1000 сообщений и 30 Гб интернет-трафика\n",
    "\n",
    "- Стоимость услуг сверх тарифного пакета:\n",
    "\n",
    "- минута разговора: 1 рубль\n",
    "\n",
    "- сообщение: 1 рубль\n",
    "\n",
    "- 1 Гб интернет-трафика: 150 рублей"
   ]
  },
  {
   "cell_type": "markdown",
   "metadata": {},
   "source": [
    "## Изучение данных из файла"
   ]
  },
  {
   "cell_type": "code",
   "execution_count": 1,
   "metadata": {},
   "outputs": [
    {
     "name": "stdout",
     "output_type": "stream",
     "text": [
      "<class 'pandas.core.frame.DataFrame'>\n",
      "RangeIndex: 202607 entries, 0 to 202606\n",
      "Data columns (total 4 columns):\n",
      " #   Column     Non-Null Count   Dtype  \n",
      "---  ------     --------------   -----  \n",
      " 0   id         202607 non-null  object \n",
      " 1   call_date  202607 non-null  object \n",
      " 2   duration   202607 non-null  float64\n",
      " 3   user_id    202607 non-null  int64  \n",
      "dtypes: float64(1), int64(1), object(2)\n",
      "memory usage: 6.2+ MB\n"
     ]
    }
   ],
   "source": [
    "from scipy import stats as st\n",
    "import math as mt\n",
    "import numpy as np\n",
    "import pandas as pd\n",
    "\n",
    "# создадим датафреймы\n",
    "try:\n",
    "    calls = pd.read_csv('datasets/calls.csv')\n",
    "    internet = pd.read_csv('datasets/internet.csv')\n",
    "    messages = pd.read_csv('datasets/messages.csv')\n",
    "    tariffs = pd.read_csv('datasets/tariffs.csv')\n",
    "    users = pd.read_csv('datasets/users.csv')\n",
    "except:\n",
    "    calls = pd.read_csv('/datasets/calls.csv')\n",
    "    internet = pd.read_csv('/datasets/internet.csv')\n",
    "    messages = pd.read_csv('/datasets/messages.csv')\n",
    "    tariffs = pd.read_csv('/datasets/tariffs.csv')\n",
    "    users = pd.read_csv('/datasets/users.csv')\n",
    "\n",
    "# изучим общую информацию\n",
    "calls.info()"
   ]
  },
  {
   "cell_type": "markdown",
   "metadata": {},
   "source": [
    "Таблица **calls** (информация о звонках):\n",
    "- id — уникальный номер звонка\n",
    "- call_date — дата звонка\n",
    "- duration — длительность звонка в минутах\n",
    "- user_id — идентификатор пользователя, сделавшего звонок"
   ]
  },
  {
   "cell_type": "code",
   "execution_count": 2,
   "metadata": {},
   "outputs": [
    {
     "name": "stdout",
     "output_type": "stream",
     "text": [
      "<class 'pandas.core.frame.DataFrame'>\n",
      "RangeIndex: 149396 entries, 0 to 149395\n",
      "Data columns (total 5 columns):\n",
      " #   Column        Non-Null Count   Dtype  \n",
      "---  ------        --------------   -----  \n",
      " 0   Unnamed: 0    149396 non-null  int64  \n",
      " 1   id            149396 non-null  object \n",
      " 2   mb_used       149396 non-null  float64\n",
      " 3   session_date  149396 non-null  object \n",
      " 4   user_id       149396 non-null  int64  \n",
      "dtypes: float64(1), int64(2), object(2)\n",
      "memory usage: 5.7+ MB\n"
     ]
    }
   ],
   "source": [
    "internet.info()"
   ]
  },
  {
   "cell_type": "markdown",
   "metadata": {},
   "source": [
    "Таблица **internet** (информация об интернет-сессиях):\n",
    "- id — уникальный номер сессии\n",
    "- mb_used — объём потраченного за сессию интернет-трафика (в мегабайтах)\n",
    "- session_date — дата интернет-сессии\n",
    "- user_id — идентификатор пользователя"
   ]
  },
  {
   "cell_type": "code",
   "execution_count": 3,
   "metadata": {},
   "outputs": [
    {
     "name": "stdout",
     "output_type": "stream",
     "text": [
      "<class 'pandas.core.frame.DataFrame'>\n",
      "RangeIndex: 123036 entries, 0 to 123035\n",
      "Data columns (total 3 columns):\n",
      " #   Column        Non-Null Count   Dtype \n",
      "---  ------        --------------   ----- \n",
      " 0   id            123036 non-null  object\n",
      " 1   message_date  123036 non-null  object\n",
      " 2   user_id       123036 non-null  int64 \n",
      "dtypes: int64(1), object(2)\n",
      "memory usage: 2.8+ MB\n"
     ]
    }
   ],
   "source": [
    "messages.info()"
   ]
  },
  {
   "cell_type": "markdown",
   "metadata": {},
   "source": [
    "Таблица **messages** (информация о сообщениях):\n",
    "- id — уникальный номер сообщения\n",
    "- message_date — дата сообщения\n",
    "- user_id — идентификатор пользователя, отправившего сообщение"
   ]
  },
  {
   "cell_type": "code",
   "execution_count": 4,
   "metadata": {},
   "outputs": [
    {
     "name": "stdout",
     "output_type": "stream",
     "text": [
      "<class 'pandas.core.frame.DataFrame'>\n",
      "RangeIndex: 2 entries, 0 to 1\n",
      "Data columns (total 8 columns):\n",
      " #   Column                 Non-Null Count  Dtype \n",
      "---  ------                 --------------  ----- \n",
      " 0   messages_included      2 non-null      int64 \n",
      " 1   mb_per_month_included  2 non-null      int64 \n",
      " 2   minutes_included       2 non-null      int64 \n",
      " 3   rub_monthly_fee        2 non-null      int64 \n",
      " 4   rub_per_gb             2 non-null      int64 \n",
      " 5   rub_per_message        2 non-null      int64 \n",
      " 6   rub_per_minute         2 non-null      int64 \n",
      " 7   tariff_name            2 non-null      object\n",
      "dtypes: int64(7), object(1)\n",
      "memory usage: 256.0+ bytes\n"
     ]
    }
   ],
   "source": [
    "tariffs.info()"
   ]
  },
  {
   "cell_type": "markdown",
   "metadata": {},
   "source": [
    "Таблица **tariffs** (информация о тарифах):\n",
    "- tariff_name — название тарифа\n",
    "- rub_monthly_fee — ежемесячная абонентская плата в рублях\n",
    "- minutes_included — количество минут разговора в месяц, включённых в абонентскую плату\n",
    "- messages_included — количество сообщений в месяц, включённых в абонентскую плату\n",
    "- mb_per_month_included — объём интернет-трафика, включённого в абонентскую плату (в мегабайтах)\n",
    "- rub_per_minute — стоимость минуты разговора сверх тарифного пакета (например, если в тарифе 100 минут разговора в месяц, то со 101 минуты будет взиматься плата)\n",
    "- rub_per_message — стоимость отправки сообщения сверх тарифного пакета\n",
    "- rub_per_gb — стоимость дополнительного гигабайта интернет-трафика сверх тарифного пакета (1 гигабайт = 1024 мегабайта)"
   ]
  },
  {
   "cell_type": "code",
   "execution_count": 5,
   "metadata": {},
   "outputs": [
    {
     "name": "stdout",
     "output_type": "stream",
     "text": [
      "<class 'pandas.core.frame.DataFrame'>\n",
      "RangeIndex: 500 entries, 0 to 499\n",
      "Data columns (total 8 columns):\n",
      " #   Column      Non-Null Count  Dtype \n",
      "---  ------      --------------  ----- \n",
      " 0   user_id     500 non-null    int64 \n",
      " 1   age         500 non-null    int64 \n",
      " 2   churn_date  38 non-null     object\n",
      " 3   city        500 non-null    object\n",
      " 4   first_name  500 non-null    object\n",
      " 5   last_name   500 non-null    object\n",
      " 6   reg_date    500 non-null    object\n",
      " 7   tariff      500 non-null    object\n",
      "dtypes: int64(2), object(6)\n",
      "memory usage: 31.4+ KB\n"
     ]
    }
   ],
   "source": [
    "users.info()"
   ]
  },
  {
   "cell_type": "markdown",
   "metadata": {},
   "source": [
    "Таблица **users** (информация о пользователях):\n",
    "- user_id — уникальный идентификатор пользователя\n",
    "- first_name — имя пользователя\n",
    "- last_name — фамилия пользователя\n",
    "- age — возраст пользователя (годы)\n",
    "- reg_date — дата подключения тарифа (день, месяц, год)\n",
    "- churn_date — дата прекращения пользования тарифом (если значение пропущено, то тариф ещё действовал на момент выгрузки данных)\n",
    "- city — город проживания пользователя\n",
    "- tariff — название тарифного плана"
   ]
  },
  {
   "cell_type": "markdown",
   "metadata": {},
   "source": [
    "### Вывод"
   ]
  },
  {
   "cell_type": "markdown",
   "metadata": {},
   "source": [
    "Итак, изучили общую информацию по всем имеющимся данным. Всего имеется 5 таблиц: **calls, internet, messages, tariffs, users**, в которых находится основная информация о 500 пользователях, в том числе и об их звонках, использовании интернет трафика, сообщениях, тарифе.\n",
    "\n",
    "Предварительно можно сказать, что данных вполне достаточно, чтобы верно проанализировать поведение клиентов и сделать необходимый вывод о том, какой тариф лучше."
   ]
  },
  {
   "cell_type": "markdown",
   "metadata": {},
   "source": [
    "## Предобработка данных"
   ]
  },
  {
   "cell_type": "markdown",
   "metadata": {},
   "source": [
    "### Изменение типов данных"
   ]
  },
  {
   "cell_type": "markdown",
   "metadata": {},
   "source": [
    "Начнем подготовку данных с того, что приведем данные к нужным типам.\n",
    "\n",
    "Начнем с таблицы **calls**. "
   ]
  },
  {
   "cell_type": "code",
   "execution_count": 6,
   "metadata": {},
   "outputs": [
    {
     "name": "stdout",
     "output_type": "stream",
     "text": [
      "<class 'pandas.core.frame.DataFrame'>\n",
      "RangeIndex: 202607 entries, 0 to 202606\n",
      "Data columns (total 4 columns):\n",
      " #   Column     Non-Null Count   Dtype  \n",
      "---  ------     --------------   -----  \n",
      " 0   id         202607 non-null  object \n",
      " 1   call_date  202607 non-null  object \n",
      " 2   duration   202607 non-null  float64\n",
      " 3   user_id    202607 non-null  int64  \n",
      "dtypes: float64(1), int64(1), object(2)\n",
      "memory usage: 6.2+ MB\n"
     ]
    }
   ],
   "source": [
    "calls.info()"
   ]
  },
  {
   "cell_type": "markdown",
   "metadata": {},
   "source": [
    "Как видно, столбцы *id* и *call_date* имеют тип *object*, что необходимо поменять. Также можно заменить тип *int64* на *int32*, чтобы данные занимали меньше места."
   ]
  },
  {
   "cell_type": "code",
   "execution_count": 7,
   "metadata": {},
   "outputs": [
    {
     "name": "stdout",
     "output_type": "stream",
     "text": [
      "<class 'pandas.core.frame.DataFrame'>\n",
      "RangeIndex: 202607 entries, 0 to 202606\n",
      "Data columns (total 4 columns):\n",
      " #   Column     Non-Null Count   Dtype         \n",
      "---  ------     --------------   -----         \n",
      " 0   id         202607 non-null  int32         \n",
      " 1   call_date  202607 non-null  datetime64[ns]\n",
      " 2   duration   202607 non-null  int32         \n",
      " 3   user_id    202607 non-null  int32         \n",
      "dtypes: datetime64[ns](1), int32(3)\n",
      "memory usage: 3.9 MB\n"
     ]
    }
   ],
   "source": [
    "calls['id'] = calls['id'].astype('int32')\n",
    "calls['call_date'] = pd.to_datetime(calls['call_date'], format='%Y-%m-%d')\n",
    "calls['user_id'] = calls['user_id'].astype('int32')\n",
    "calls['duration'] = np.ceil(calls['duration'])\n",
    "calls['duration'] = calls['duration'].astype('int32')\n",
    "# проверим данные о таблице после изменений\n",
    "calls.info()"
   ]
  },
  {
   "cell_type": "markdown",
   "metadata": {},
   "source": [
    "Продолжим с таблицей **internet**."
   ]
  },
  {
   "cell_type": "code",
   "execution_count": 8,
   "metadata": {},
   "outputs": [
    {
     "name": "stdout",
     "output_type": "stream",
     "text": [
      "<class 'pandas.core.frame.DataFrame'>\n",
      "RangeIndex: 149396 entries, 0 to 149395\n",
      "Data columns (total 5 columns):\n",
      " #   Column        Non-Null Count   Dtype  \n",
      "---  ------        --------------   -----  \n",
      " 0   Unnamed: 0    149396 non-null  int64  \n",
      " 1   id            149396 non-null  object \n",
      " 2   mb_used       149396 non-null  float64\n",
      " 3   session_date  149396 non-null  object \n",
      " 4   user_id       149396 non-null  int64  \n",
      "dtypes: float64(1), int64(2), object(2)\n",
      "memory usage: 5.7+ MB\n"
     ]
    }
   ],
   "source": [
    "internet.info()"
   ]
  },
  {
   "cell_type": "code",
   "execution_count": 9,
   "metadata": {},
   "outputs": [
    {
     "name": "stdout",
     "output_type": "stream",
     "text": [
      "<class 'pandas.core.frame.DataFrame'>\n",
      "RangeIndex: 149396 entries, 0 to 149395\n",
      "Data columns (total 4 columns):\n",
      " #   Column        Non-Null Count   Dtype         \n",
      "---  ------        --------------   -----         \n",
      " 0   id            149396 non-null  int32         \n",
      " 1   mb_used       149396 non-null  float64       \n",
      " 2   session_date  149396 non-null  datetime64[ns]\n",
      " 3   user_id       149396 non-null  int32         \n",
      "dtypes: datetime64[ns](1), float64(1), int32(2)\n",
      "memory usage: 3.4 MB\n"
     ]
    }
   ],
   "source": [
    "internet['id'] = internet['id'].astype('int32')\n",
    "internet['session_date'] = pd.to_datetime(internet['session_date'], format='%Y-%m-%d')\n",
    "internet['user_id'] = internet['user_id'].astype('int32')\n",
    "# удалим ненужный столбец\n",
    "internet.drop(['Unnamed: 0'], axis=1, inplace=True)\n",
    "# проверим данные о таблице после изменений\n",
    "internet.info()"
   ]
  },
  {
   "cell_type": "markdown",
   "metadata": {},
   "source": [
    "Изменим типы данных в таблице **messages**"
   ]
  },
  {
   "cell_type": "code",
   "execution_count": 10,
   "metadata": {},
   "outputs": [
    {
     "name": "stdout",
     "output_type": "stream",
     "text": [
      "<class 'pandas.core.frame.DataFrame'>\n",
      "RangeIndex: 123036 entries, 0 to 123035\n",
      "Data columns (total 3 columns):\n",
      " #   Column        Non-Null Count   Dtype \n",
      "---  ------        --------------   ----- \n",
      " 0   id            123036 non-null  object\n",
      " 1   message_date  123036 non-null  object\n",
      " 2   user_id       123036 non-null  int64 \n",
      "dtypes: int64(1), object(2)\n",
      "memory usage: 2.8+ MB\n"
     ]
    }
   ],
   "source": [
    "messages.info()"
   ]
  },
  {
   "cell_type": "code",
   "execution_count": 11,
   "metadata": {
    "scrolled": true
   },
   "outputs": [
    {
     "name": "stdout",
     "output_type": "stream",
     "text": [
      "<class 'pandas.core.frame.DataFrame'>\n",
      "RangeIndex: 123036 entries, 0 to 123035\n",
      "Data columns (total 3 columns):\n",
      " #   Column        Non-Null Count   Dtype         \n",
      "---  ------        --------------   -----         \n",
      " 0   id            123036 non-null  int32         \n",
      " 1   message_date  123036 non-null  datetime64[ns]\n",
      " 2   user_id       123036 non-null  int32         \n",
      "dtypes: datetime64[ns](1), int32(2)\n",
      "memory usage: 1.9 MB\n"
     ]
    }
   ],
   "source": [
    "messages['id'] = messages['id'].astype('int32')\n",
    "messages['user_id'] = messages['user_id'].astype('int32')\n",
    "messages['message_date'] = pd.to_datetime(messages['message_date'], format='%Y-%m-%d')\n",
    "# проверим данные о таблице после изменений\n",
    "messages.info()"
   ]
  },
  {
   "cell_type": "markdown",
   "metadata": {},
   "source": [
    "Изменим типы данных в таблице **tariffs**"
   ]
  },
  {
   "cell_type": "code",
   "execution_count": 12,
   "metadata": {},
   "outputs": [
    {
     "name": "stdout",
     "output_type": "stream",
     "text": [
      "<class 'pandas.core.frame.DataFrame'>\n",
      "RangeIndex: 2 entries, 0 to 1\n",
      "Data columns (total 8 columns):\n",
      " #   Column                 Non-Null Count  Dtype \n",
      "---  ------                 --------------  ----- \n",
      " 0   messages_included      2 non-null      int64 \n",
      " 1   mb_per_month_included  2 non-null      int64 \n",
      " 2   minutes_included       2 non-null      int64 \n",
      " 3   rub_monthly_fee        2 non-null      int64 \n",
      " 4   rub_per_gb             2 non-null      int64 \n",
      " 5   rub_per_message        2 non-null      int64 \n",
      " 6   rub_per_minute         2 non-null      int64 \n",
      " 7   tariff_name            2 non-null      object\n",
      "dtypes: int64(7), object(1)\n",
      "memory usage: 256.0+ bytes\n"
     ]
    }
   ],
   "source": [
    "tariffs.info()"
   ]
  },
  {
   "cell_type": "code",
   "execution_count": 13,
   "metadata": {},
   "outputs": [
    {
     "name": "stdout",
     "output_type": "stream",
     "text": [
      "<class 'pandas.core.frame.DataFrame'>\n",
      "RangeIndex: 2 entries, 0 to 1\n",
      "Data columns (total 8 columns):\n",
      " #   Column                 Non-Null Count  Dtype \n",
      "---  ------                 --------------  ----- \n",
      " 0   messages_included      2 non-null      int32 \n",
      " 1   mb_per_month_included  2 non-null      int32 \n",
      " 2   minutes_included       2 non-null      int32 \n",
      " 3   rub_monthly_fee        2 non-null      int32 \n",
      " 4   rub_per_gb             2 non-null      int32 \n",
      " 5   rub_per_message        2 non-null      int32 \n",
      " 6   rub_per_minute         2 non-null      int32 \n",
      " 7   tariff_name            2 non-null      string\n",
      "dtypes: int32(7), string(1)\n",
      "memory usage: 200.0 bytes\n"
     ]
    }
   ],
   "source": [
    "tariffs['tariff_name'] = tariffs['tariff_name'].astype('string')\n",
    "tariffs['messages_included'] = tariffs['messages_included'].astype('int32')\n",
    "tariffs['mb_per_month_included'] = tariffs['mb_per_month_included'].astype('int32')\n",
    "tariffs['minutes_included'] = tariffs['minutes_included'].astype('int32')\n",
    "tariffs['rub_monthly_fee'] = tariffs['rub_monthly_fee'].astype('int32')\n",
    "tariffs['rub_per_gb'] = tariffs['rub_per_gb'].astype('int32')\n",
    "tariffs['rub_per_message'] = tariffs['rub_per_message'].astype('int32')\n",
    "tariffs['rub_per_minute'] = tariffs['rub_per_minute'].astype('int32')\n",
    "# проверим данные о таблице после изменений\n",
    "tariffs.info()"
   ]
  },
  {
   "cell_type": "markdown",
   "metadata": {},
   "source": [
    "Изменим типы данных в таблице **users**"
   ]
  },
  {
   "cell_type": "code",
   "execution_count": 14,
   "metadata": {},
   "outputs": [
    {
     "name": "stdout",
     "output_type": "stream",
     "text": [
      "<class 'pandas.core.frame.DataFrame'>\n",
      "RangeIndex: 500 entries, 0 to 499\n",
      "Data columns (total 8 columns):\n",
      " #   Column      Non-Null Count  Dtype \n",
      "---  ------      --------------  ----- \n",
      " 0   user_id     500 non-null    int64 \n",
      " 1   age         500 non-null    int64 \n",
      " 2   churn_date  38 non-null     object\n",
      " 3   city        500 non-null    object\n",
      " 4   first_name  500 non-null    object\n",
      " 5   last_name   500 non-null    object\n",
      " 6   reg_date    500 non-null    object\n",
      " 7   tariff      500 non-null    object\n",
      "dtypes: int64(2), object(6)\n",
      "memory usage: 31.4+ KB\n"
     ]
    }
   ],
   "source": [
    "users.info()"
   ]
  },
  {
   "cell_type": "code",
   "execution_count": 15,
   "metadata": {},
   "outputs": [
    {
     "name": "stdout",
     "output_type": "stream",
     "text": [
      "<class 'pandas.core.frame.DataFrame'>\n",
      "RangeIndex: 500 entries, 0 to 499\n",
      "Data columns (total 8 columns):\n",
      " #   Column      Non-Null Count  Dtype         \n",
      "---  ------      --------------  -----         \n",
      " 0   user_id     500 non-null    int32         \n",
      " 1   age         500 non-null    int32         \n",
      " 2   churn_date  38 non-null     datetime64[ns]\n",
      " 3   city        500 non-null    string        \n",
      " 4   first_name  500 non-null    string        \n",
      " 5   last_name   500 non-null    string        \n",
      " 6   reg_date    500 non-null    datetime64[ns]\n",
      " 7   tariff      500 non-null    string        \n",
      "dtypes: datetime64[ns](2), int32(2), string(4)\n",
      "memory usage: 27.5 KB\n"
     ]
    }
   ],
   "source": [
    "users['user_id'] = users['user_id'].astype('int32')\n",
    "users['age'] = users['age'].astype('int32')\n",
    "users['churn_date'] = pd.to_datetime(users['churn_date'], format='%Y-%m-%d')\n",
    "users['reg_date'] = pd.to_datetime(users['reg_date'], format='%Y-%m-%d')\n",
    "users['city'] = users['city'].astype('string')\n",
    "users['first_name'] = users['first_name'].astype('string')\n",
    "users['last_name'] = users['last_name'].astype('string')\n",
    "users['tariff'] = users['tariff'].astype('string')\n",
    "users.info()"
   ]
  },
  {
   "cell_type": "markdown",
   "metadata": {},
   "source": [
    "В столбце *churn_date* есть пропуски, но их заполнять не нужно, так как они обозначают, что тариф еще действует на момент выгрузки данных."
   ]
  },
  {
   "cell_type": "markdown",
   "metadata": {},
   "source": [
    "### Вывод"
   ]
  },
  {
   "cell_type": "markdown",
   "metadata": {},
   "source": [
    "Итак, изменили тип данных столбцов в таблицах. Теперь даты имеют нужный тип *datetime*, строки имеют строчный тип *string*, а числовые данные имеют тип *int*. \n",
    "\n",
    "Также был удален ошибочно появившийся столбец *Unnamed: 0* в таблице **internet**. Вероятно, этот безымянный столбец с индексами появился после считывания данных из csv файла. "
   ]
  },
  {
   "cell_type": "markdown",
   "metadata": {},
   "source": [
    "### Расчёты и добавление результатов в таблицу"
   ]
  },
  {
   "cell_type": "markdown",
   "metadata": {},
   "source": [
    "Посчитаем для каждого пользователя:\n",
    "- количество сделанных звонков и израсходованных минут разговора по месяцам\n",
    "- количество отправленных сообщений по месяцам\n",
    "- объем израсходованного интернет-трафика по месяцам\n",
    "- помесячную выручку с каждого пользователя\n",
    "\n",
    "И добавим результаты в таблицу.\n",
    "\n",
    "Начнем с количества сделанных звонков и израсходованных минут разговора по месяцам. Для этого для начала необходимо создать новый столбец в таблицах **calls, messages, internet** с месяцем, когда был совершен звонок."
   ]
  },
  {
   "cell_type": "code",
   "execution_count": 16,
   "metadata": {},
   "outputs": [],
   "source": [
    "# новый столбец с месяцем в каждой из трех таблиц\n",
    "calls['date_month'] = calls['call_date'].dt.month\n",
    "messages['date_month'] = messages['message_date'].dt.month\n",
    "internet['date_month'] = internet['session_date'].dt.month\n",
    "\n",
    "# изменим цифровое значение на словесное для удобства восприятия\n",
    "months = ['январь', 'февраль', 'март', 'апрель', 'май', 'июнь', 'июль', 'август', 'сентябрь', 'октябрь', 'ноябрь', 'декабрь']\n",
    "for index in range(0, 12):\n",
    "    calls['date_month'] = calls['date_month'].replace(index+1, months[index])\n",
    "    messages['date_month'] = messages['date_month'].replace(index+1, months[index])\n",
    "    internet['date_month'] = internet['date_month'].replace(index+1, months[index])\n",
    "\n",
    "# изменим тип данных на строчный \n",
    "calls['date_month'] = calls['date_month'].astype('string')\n",
    "messages['date_month'] = messages['date_month'].astype('string')\n",
    "internet['date_month'] = internet['date_month'].astype('string')"
   ]
  },
  {
   "cell_type": "code",
   "execution_count": 17,
   "metadata": {},
   "outputs": [
    {
     "data": {
      "text/html": [
       "<div>\n",
       "<style scoped>\n",
       "    .dataframe tbody tr th:only-of-type {\n",
       "        vertical-align: middle;\n",
       "    }\n",
       "\n",
       "    .dataframe tbody tr th {\n",
       "        vertical-align: top;\n",
       "    }\n",
       "\n",
       "    .dataframe thead th {\n",
       "        text-align: right;\n",
       "    }\n",
       "</style>\n",
       "<table border=\"1\" class=\"dataframe\">\n",
       "  <thead>\n",
       "    <tr style=\"text-align: right;\">\n",
       "      <th></th>\n",
       "      <th>user_id</th>\n",
       "      <th>date_month</th>\n",
       "      <th>calls_duration_sum</th>\n",
       "      <th>calls_count</th>\n",
       "    </tr>\n",
       "  </thead>\n",
       "  <tbody>\n",
       "    <tr>\n",
       "      <th>0</th>\n",
       "      <td>1000</td>\n",
       "      <td>август</td>\n",
       "      <td>408</td>\n",
       "      <td>52</td>\n",
       "    </tr>\n",
       "    <tr>\n",
       "      <th>1</th>\n",
       "      <td>1000</td>\n",
       "      <td>декабрь</td>\n",
       "      <td>333</td>\n",
       "      <td>46</td>\n",
       "    </tr>\n",
       "    <tr>\n",
       "      <th>2</th>\n",
       "      <td>1000</td>\n",
       "      <td>июль</td>\n",
       "      <td>340</td>\n",
       "      <td>47</td>\n",
       "    </tr>\n",
       "    <tr>\n",
       "      <th>3</th>\n",
       "      <td>1000</td>\n",
       "      <td>июнь</td>\n",
       "      <td>172</td>\n",
       "      <td>43</td>\n",
       "    </tr>\n",
       "    <tr>\n",
       "      <th>4</th>\n",
       "      <td>1000</td>\n",
       "      <td>май</td>\n",
       "      <td>159</td>\n",
       "      <td>22</td>\n",
       "    </tr>\n",
       "  </tbody>\n",
       "</table>\n",
       "</div>"
      ],
      "text/plain": [
       "   user_id date_month  calls_duration_sum  calls_count\n",
       "0     1000     август                 408           52\n",
       "1     1000    декабрь                 333           46\n",
       "2     1000       июль                 340           47\n",
       "3     1000       июнь                 172           43\n",
       "4     1000        май                 159           22"
      ]
     },
     "execution_count": 17,
     "metadata": {},
     "output_type": "execute_result"
    }
   ],
   "source": [
    "# сводная таблица с длительностью звонков и их количеством в месяц\n",
    "calls_pivot = calls.pivot_table(index = ['user_id', 'date_month'], values = 'duration', aggfunc = ['sum', 'count']).reset_index()\n",
    "# меняем названия столбцов\n",
    "calls_pivot.set_axis(['user_id','date_month','calls_duration_sum', 'calls_count'],axis = 'columns',inplace = True)\n",
    "calls_pivot.head()"
   ]
  },
  {
   "cell_type": "code",
   "execution_count": 18,
   "metadata": {},
   "outputs": [],
   "source": [
    "# столбцы из таблицы users, которые понадобятся для исследования\n",
    "users_nedeed = users[['user_id', 'tariff', 'city']]\n",
    "users_nedeed.set_axis(['user_id','tariff_name','city'],axis = 'columns',inplace = True)"
   ]
  },
  {
   "cell_type": "code",
   "execution_count": 19,
   "metadata": {},
   "outputs": [
    {
     "data": {
      "text/html": [
       "<div>\n",
       "<style scoped>\n",
       "    .dataframe tbody tr th:only-of-type {\n",
       "        vertical-align: middle;\n",
       "    }\n",
       "\n",
       "    .dataframe tbody tr th {\n",
       "        vertical-align: top;\n",
       "    }\n",
       "\n",
       "    .dataframe thead th {\n",
       "        text-align: right;\n",
       "    }\n",
       "</style>\n",
       "<table border=\"1\" class=\"dataframe\">\n",
       "  <thead>\n",
       "    <tr style=\"text-align: right;\">\n",
       "      <th></th>\n",
       "      <th>user_id</th>\n",
       "      <th>tariff_name</th>\n",
       "      <th>city</th>\n",
       "      <th>messages_included</th>\n",
       "      <th>mb_per_month_included</th>\n",
       "      <th>minutes_included</th>\n",
       "      <th>rub_monthly_fee</th>\n",
       "      <th>rub_per_gb</th>\n",
       "      <th>rub_per_message</th>\n",
       "      <th>rub_per_minute</th>\n",
       "      <th>date_month</th>\n",
       "      <th>calls_duration_sum</th>\n",
       "      <th>calls_count</th>\n",
       "    </tr>\n",
       "  </thead>\n",
       "  <tbody>\n",
       "    <tr>\n",
       "      <th>0</th>\n",
       "      <td>1000</td>\n",
       "      <td>ultra</td>\n",
       "      <td>Краснодар</td>\n",
       "      <td>1000</td>\n",
       "      <td>30720</td>\n",
       "      <td>3000</td>\n",
       "      <td>1950</td>\n",
       "      <td>150</td>\n",
       "      <td>1</td>\n",
       "      <td>1</td>\n",
       "      <td>август</td>\n",
       "      <td>408.0</td>\n",
       "      <td>52.0</td>\n",
       "    </tr>\n",
       "    <tr>\n",
       "      <th>1</th>\n",
       "      <td>1000</td>\n",
       "      <td>ultra</td>\n",
       "      <td>Краснодар</td>\n",
       "      <td>1000</td>\n",
       "      <td>30720</td>\n",
       "      <td>3000</td>\n",
       "      <td>1950</td>\n",
       "      <td>150</td>\n",
       "      <td>1</td>\n",
       "      <td>1</td>\n",
       "      <td>декабрь</td>\n",
       "      <td>333.0</td>\n",
       "      <td>46.0</td>\n",
       "    </tr>\n",
       "    <tr>\n",
       "      <th>2</th>\n",
       "      <td>1000</td>\n",
       "      <td>ultra</td>\n",
       "      <td>Краснодар</td>\n",
       "      <td>1000</td>\n",
       "      <td>30720</td>\n",
       "      <td>3000</td>\n",
       "      <td>1950</td>\n",
       "      <td>150</td>\n",
       "      <td>1</td>\n",
       "      <td>1</td>\n",
       "      <td>июль</td>\n",
       "      <td>340.0</td>\n",
       "      <td>47.0</td>\n",
       "    </tr>\n",
       "    <tr>\n",
       "      <th>3</th>\n",
       "      <td>1000</td>\n",
       "      <td>ultra</td>\n",
       "      <td>Краснодар</td>\n",
       "      <td>1000</td>\n",
       "      <td>30720</td>\n",
       "      <td>3000</td>\n",
       "      <td>1950</td>\n",
       "      <td>150</td>\n",
       "      <td>1</td>\n",
       "      <td>1</td>\n",
       "      <td>июнь</td>\n",
       "      <td>172.0</td>\n",
       "      <td>43.0</td>\n",
       "    </tr>\n",
       "    <tr>\n",
       "      <th>4</th>\n",
       "      <td>1000</td>\n",
       "      <td>ultra</td>\n",
       "      <td>Краснодар</td>\n",
       "      <td>1000</td>\n",
       "      <td>30720</td>\n",
       "      <td>3000</td>\n",
       "      <td>1950</td>\n",
       "      <td>150</td>\n",
       "      <td>1</td>\n",
       "      <td>1</td>\n",
       "      <td>май</td>\n",
       "      <td>159.0</td>\n",
       "      <td>22.0</td>\n",
       "    </tr>\n",
       "  </tbody>\n",
       "</table>\n",
       "</div>"
      ],
      "text/plain": [
       "   user_id tariff_name       city  messages_included  mb_per_month_included  \\\n",
       "0     1000       ultra  Краснодар               1000                  30720   \n",
       "1     1000       ultra  Краснодар               1000                  30720   \n",
       "2     1000       ultra  Краснодар               1000                  30720   \n",
       "3     1000       ultra  Краснодар               1000                  30720   \n",
       "4     1000       ultra  Краснодар               1000                  30720   \n",
       "\n",
       "   minutes_included  rub_monthly_fee  rub_per_gb  rub_per_message  \\\n",
       "0              3000             1950         150                1   \n",
       "1              3000             1950         150                1   \n",
       "2              3000             1950         150                1   \n",
       "3              3000             1950         150                1   \n",
       "4              3000             1950         150                1   \n",
       "\n",
       "   rub_per_minute date_month  calls_duration_sum  calls_count  \n",
       "0               1     август               408.0         52.0  \n",
       "1               1    декабрь               333.0         46.0  \n",
       "2               1       июль               340.0         47.0  \n",
       "3               1       июнь               172.0         43.0  \n",
       "4               1        май               159.0         22.0  "
      ]
     },
     "execution_count": 19,
     "metadata": {},
     "output_type": "execute_result"
    }
   ],
   "source": [
    "# объединяем столбцы в одну основную таблицу\n",
    "general_data = users_nedeed.merge(tariffs, on='tariff_name', how='outer')\n",
    "general_data = general_data.merge(calls_pivot, on=['user_id'], how='left')\n",
    "general_data.head()"
   ]
  },
  {
   "cell_type": "markdown",
   "metadata": {},
   "source": [
    "Теперь посчитаем и добавим в общую таблицу количество отправленных сообщений по месяцам."
   ]
  },
  {
   "cell_type": "code",
   "execution_count": 20,
   "metadata": {},
   "outputs": [
    {
     "data": {
      "text/html": [
       "<div>\n",
       "<style scoped>\n",
       "    .dataframe tbody tr th:only-of-type {\n",
       "        vertical-align: middle;\n",
       "    }\n",
       "\n",
       "    .dataframe tbody tr th {\n",
       "        vertical-align: top;\n",
       "    }\n",
       "\n",
       "    .dataframe thead th {\n",
       "        text-align: right;\n",
       "    }\n",
       "</style>\n",
       "<table border=\"1\" class=\"dataframe\">\n",
       "  <thead>\n",
       "    <tr style=\"text-align: right;\">\n",
       "      <th></th>\n",
       "      <th>user_id</th>\n",
       "      <th>tariff_name</th>\n",
       "      <th>city</th>\n",
       "      <th>messages_included</th>\n",
       "      <th>mb_per_month_included</th>\n",
       "      <th>minutes_included</th>\n",
       "      <th>rub_monthly_fee</th>\n",
       "      <th>rub_per_gb</th>\n",
       "      <th>rub_per_message</th>\n",
       "      <th>rub_per_minute</th>\n",
       "      <th>date_month</th>\n",
       "      <th>calls_duration_sum</th>\n",
       "      <th>calls_count</th>\n",
       "      <th>messages_count</th>\n",
       "    </tr>\n",
       "  </thead>\n",
       "  <tbody>\n",
       "    <tr>\n",
       "      <th>0</th>\n",
       "      <td>1000</td>\n",
       "      <td>ultra</td>\n",
       "      <td>Краснодар</td>\n",
       "      <td>1000</td>\n",
       "      <td>30720</td>\n",
       "      <td>3000</td>\n",
       "      <td>1950</td>\n",
       "      <td>150</td>\n",
       "      <td>1</td>\n",
       "      <td>1</td>\n",
       "      <td>август</td>\n",
       "      <td>408.0</td>\n",
       "      <td>52.0</td>\n",
       "      <td>81.0</td>\n",
       "    </tr>\n",
       "    <tr>\n",
       "      <th>1</th>\n",
       "      <td>1000</td>\n",
       "      <td>ultra</td>\n",
       "      <td>Краснодар</td>\n",
       "      <td>1000</td>\n",
       "      <td>30720</td>\n",
       "      <td>3000</td>\n",
       "      <td>1950</td>\n",
       "      <td>150</td>\n",
       "      <td>1</td>\n",
       "      <td>1</td>\n",
       "      <td>декабрь</td>\n",
       "      <td>333.0</td>\n",
       "      <td>46.0</td>\n",
       "      <td>70.0</td>\n",
       "    </tr>\n",
       "    <tr>\n",
       "      <th>2</th>\n",
       "      <td>1000</td>\n",
       "      <td>ultra</td>\n",
       "      <td>Краснодар</td>\n",
       "      <td>1000</td>\n",
       "      <td>30720</td>\n",
       "      <td>3000</td>\n",
       "      <td>1950</td>\n",
       "      <td>150</td>\n",
       "      <td>1</td>\n",
       "      <td>1</td>\n",
       "      <td>июль</td>\n",
       "      <td>340.0</td>\n",
       "      <td>47.0</td>\n",
       "      <td>75.0</td>\n",
       "    </tr>\n",
       "    <tr>\n",
       "      <th>3</th>\n",
       "      <td>1000</td>\n",
       "      <td>ultra</td>\n",
       "      <td>Краснодар</td>\n",
       "      <td>1000</td>\n",
       "      <td>30720</td>\n",
       "      <td>3000</td>\n",
       "      <td>1950</td>\n",
       "      <td>150</td>\n",
       "      <td>1</td>\n",
       "      <td>1</td>\n",
       "      <td>июнь</td>\n",
       "      <td>172.0</td>\n",
       "      <td>43.0</td>\n",
       "      <td>60.0</td>\n",
       "    </tr>\n",
       "    <tr>\n",
       "      <th>4</th>\n",
       "      <td>1000</td>\n",
       "      <td>ultra</td>\n",
       "      <td>Краснодар</td>\n",
       "      <td>1000</td>\n",
       "      <td>30720</td>\n",
       "      <td>3000</td>\n",
       "      <td>1950</td>\n",
       "      <td>150</td>\n",
       "      <td>1</td>\n",
       "      <td>1</td>\n",
       "      <td>май</td>\n",
       "      <td>159.0</td>\n",
       "      <td>22.0</td>\n",
       "      <td>22.0</td>\n",
       "    </tr>\n",
       "  </tbody>\n",
       "</table>\n",
       "</div>"
      ],
      "text/plain": [
       "   user_id tariff_name       city  messages_included  mb_per_month_included  \\\n",
       "0     1000       ultra  Краснодар               1000                  30720   \n",
       "1     1000       ultra  Краснодар               1000                  30720   \n",
       "2     1000       ultra  Краснодар               1000                  30720   \n",
       "3     1000       ultra  Краснодар               1000                  30720   \n",
       "4     1000       ultra  Краснодар               1000                  30720   \n",
       "\n",
       "   minutes_included  rub_monthly_fee  rub_per_gb  rub_per_message  \\\n",
       "0              3000             1950         150                1   \n",
       "1              3000             1950         150                1   \n",
       "2              3000             1950         150                1   \n",
       "3              3000             1950         150                1   \n",
       "4              3000             1950         150                1   \n",
       "\n",
       "   rub_per_minute date_month  calls_duration_sum  calls_count  messages_count  \n",
       "0               1     август               408.0         52.0            81.0  \n",
       "1               1    декабрь               333.0         46.0            70.0  \n",
       "2               1       июль               340.0         47.0            75.0  \n",
       "3               1       июнь               172.0         43.0            60.0  \n",
       "4               1        май               159.0         22.0            22.0  "
      ]
     },
     "execution_count": 20,
     "metadata": {},
     "output_type": "execute_result"
    }
   ],
   "source": [
    "messages_pivot = messages.pivot_table(index=['user_id', 'date_month'], values='id', aggfunc='count').reset_index()\n",
    "messages_pivot.set_axis(['user_id', 'date_month', 'messages_count'], axis='columns', inplace=True)\n",
    "general_data = general_data.merge(messages_pivot, on=['user_id', 'date_month'], how='left')\n",
    "general_data.head()"
   ]
  },
  {
   "cell_type": "markdown",
   "metadata": {},
   "source": [
    "Далее найдем объем израсходованного интернет-трафика по месяцам у каждого пользователя."
   ]
  },
  {
   "cell_type": "code",
   "execution_count": 21,
   "metadata": {},
   "outputs": [
    {
     "name": "stdout",
     "output_type": "stream",
     "text": [
      "<class 'pandas.core.frame.DataFrame'>\n",
      "RangeIndex: 149396 entries, 0 to 149395\n",
      "Data columns (total 5 columns):\n",
      " #   Column        Non-Null Count   Dtype         \n",
      "---  ------        --------------   -----         \n",
      " 0   id            149396 non-null  int32         \n",
      " 1   mb_used       149396 non-null  float64       \n",
      " 2   session_date  149396 non-null  datetime64[ns]\n",
      " 3   user_id       149396 non-null  int32         \n",
      " 4   date_month    149396 non-null  string        \n",
      "dtypes: datetime64[ns](1), float64(1), int32(2), string(1)\n",
      "memory usage: 4.6 MB\n"
     ]
    }
   ],
   "source": [
    "internet.info()"
   ]
  },
  {
   "cell_type": "code",
   "execution_count": 22,
   "metadata": {},
   "outputs": [],
   "source": [
    "internet_pivot = internet.pivot_table(index=['user_id', 'date_month'], values='mb_used', aggfunc='sum').reset_index()\n",
    "# посчитаем количество потраченных за месяц гигабайтов\n",
    "internet_pivot['gb_used'] = internet_pivot['mb_used'] / 1024\n",
    "# округлим в большую сторону, так как общая сумма за месяц округляется в бо́льшую сторону \n",
    "internet_pivot['gb_used'] = np.ceil(internet_pivot['gb_used'])\n",
    "# соединяем таблицы\n",
    "general_data = general_data.merge(internet_pivot, on=['user_id', 'date_month'], how='left')"
   ]
  },
  {
   "cell_type": "code",
   "execution_count": 23,
   "metadata": {},
   "outputs": [],
   "source": [
    "# добавим столбец с включенным в тариф количеством интернет трафика\n",
    "general_data['gb_included'] = general_data['mb_per_month_included'] / 1024\n",
    "general_data['gb_included'] = np.ceil(general_data['gb_included'])"
   ]
  },
  {
   "cell_type": "markdown",
   "metadata": {},
   "source": [
    "Теперь можно посчитать помесячную выручку с каждого пользователя. Вычтем бесплатный лимит из суммарного количества звонков, сообщений и интернет-трафика; остаток умножим на значение из тарифного плана; прибавим абонентскую плату, соответствующую тарифному плану."
   ]
  },
  {
   "cell_type": "code",
   "execution_count": 43,
   "metadata": {},
   "outputs": [
    {
     "name": "stdout",
     "output_type": "stream",
     "text": [
      "<class 'pandas.core.frame.DataFrame'>\n",
      "Int64Index: 3182 entries, 0 to 3181\n",
      "Data columns (total 18 columns):\n",
      " #   Column                 Non-Null Count  Dtype  \n",
      "---  ------                 --------------  -----  \n",
      " 0   user_id                3182 non-null   int32  \n",
      " 1   tariff_name            3182 non-null   string \n",
      " 2   city                   3182 non-null   string \n",
      " 3   messages_included      3182 non-null   int32  \n",
      " 4   mb_per_month_included  3182 non-null   int32  \n",
      " 5   minutes_included       3182 non-null   int32  \n",
      " 6   rub_monthly_fee        3182 non-null   int32  \n",
      " 7   rub_per_gb             3182 non-null   int32  \n",
      " 8   rub_per_message        3182 non-null   int32  \n",
      " 9   rub_per_minute         3182 non-null   int32  \n",
      " 10  date_month             3174 non-null   object \n",
      " 11  calls_duration_sum     3174 non-null   float64\n",
      " 12  calls_count            3174 non-null   float64\n",
      " 13  messages_count         2678 non-null   float64\n",
      " 14  mb_used                3163 non-null   float64\n",
      " 15  gb_used                3163 non-null   float64\n",
      " 16  gb_included            3182 non-null   float64\n",
      " 17  revenue                3182 non-null   float64\n",
      "dtypes: float64(7), int32(8), object(1), string(2)\n",
      "memory usage: 501.9+ KB\n"
     ]
    }
   ],
   "source": [
    "# создадим функцию для подсчета выручки\n",
    "def month_revenue(row):\n",
    "    payment = row['rub_monthly_fee']\n",
    "    gb = row['gb_used']\n",
    "    minutes = row['calls_duration_sum']\n",
    "    messages = row['messages_count']\n",
    "    if gb > row['gb_included']:\n",
    "        payment += (gb - row['gb_included']) * row['rub_per_gb']\n",
    "    if minutes > row['minutes_included']:\n",
    "        payment += (minutes - row['minutes_included']) * row['rub_per_minute']\n",
    "    if messages > row['messages_included']:\n",
    "        payment += (messages - row['messages_included']) * row['rub_per_message']\n",
    "    return payment\n",
    "# применим функцию к датафрейму\n",
    "general_data['revenue'] = general_data.apply(month_revenue, axis=1)\n",
    "general_data.info()"
   ]
  },
  {
   "cell_type": "code",
   "execution_count": 46,
   "metadata": {},
   "outputs": [
    {
     "data": {
      "text/plain": [
       "504"
      ]
     },
     "execution_count": 46,
     "metadata": {},
     "output_type": "execute_result"
    }
   ],
   "source": [
    "general_data['messages_count'].isna().sum()"
   ]
  },
  {
   "cell_type": "markdown",
   "metadata": {},
   "source": [
    "### Вывод"
   ]
  },
  {
   "cell_type": "markdown",
   "metadata": {},
   "source": [
    "Итак, была создана общая таблица с необходимыми данными для исследования. С помощью метода *merge* объединили таблицы с данными по пользователям, их звонкам, сообщениям, использованному интернет-трафику. А также в таблицу добавили данные по тарифу.\n",
    "\n",
    "Произвели расчеты для каждого пользователя, нашли и добавили в общую таблицу:\n",
    "- количество сделанных звонков и израсходованных минут разговора по месяцам\n",
    "- количество отправленных сообщений по месяцам\n",
    "- объем израсходованного интернет-трафика по месяцам\n",
    "- помесячную выручку с каждого пользователя\n",
    "\n",
    "Выручка была найдена с помощью функции, которая на вход принимала строку общей таблицы и возвращала доход от пользователя за месяц."
   ]
  },
  {
   "cell_type": "markdown",
   "metadata": {},
   "source": [
    "## Анализ обработанных данных"
   ]
  },
  {
   "cell_type": "markdown",
   "metadata": {},
   "source": [
    "Далее проанализируем имеющущюся информацию. Например, поведение клиентов оператора, исходя из выборки, то есть найдем сколько минут разговора, сколько сообщений и какой объём интернет-трафика требуется пользователям каждого тарифа в месяц.\n",
    "\n",
    "Посчитаем среднее количество, дисперсию и стандартное отклонение. "
   ]
  },
  {
   "cell_type": "code",
   "execution_count": 25,
   "metadata": {
    "scrolled": true
   },
   "outputs": [
    {
     "data": {
      "text/html": [
       "<div>\n",
       "<style scoped>\n",
       "    .dataframe tbody tr th:only-of-type {\n",
       "        vertical-align: middle;\n",
       "    }\n",
       "\n",
       "    .dataframe tbody tr th {\n",
       "        vertical-align: top;\n",
       "    }\n",
       "\n",
       "    .dataframe thead tr th {\n",
       "        text-align: left;\n",
       "    }\n",
       "</style>\n",
       "<table border=\"1\" class=\"dataframe\">\n",
       "  <thead>\n",
       "    <tr>\n",
       "      <th></th>\n",
       "      <th>tariff_name</th>\n",
       "      <th colspan=\"2\" halign=\"left\">calls_duration_sum</th>\n",
       "      <th colspan=\"2\" halign=\"left\">messages_count</th>\n",
       "      <th colspan=\"2\" halign=\"left\">gb_used</th>\n",
       "      <th colspan=\"2\" halign=\"left\">revenue</th>\n",
       "    </tr>\n",
       "    <tr>\n",
       "      <th></th>\n",
       "      <th></th>\n",
       "      <th>mean</th>\n",
       "      <th>median</th>\n",
       "      <th>mean</th>\n",
       "      <th>median</th>\n",
       "      <th>mean</th>\n",
       "      <th>median</th>\n",
       "      <th>mean</th>\n",
       "      <th>median</th>\n",
       "    </tr>\n",
       "  </thead>\n",
       "  <tbody>\n",
       "    <tr>\n",
       "      <th>0</th>\n",
       "      <td>smart</td>\n",
       "      <td>419.062978</td>\n",
       "      <td>423.0</td>\n",
       "      <td>38.747390</td>\n",
       "      <td>34.0</td>\n",
       "      <td>16.337084</td>\n",
       "      <td>17.0</td>\n",
       "      <td>1290.225169</td>\n",
       "      <td>1023.0</td>\n",
       "    </tr>\n",
       "    <tr>\n",
       "      <th>1</th>\n",
       "      <td>ultra</td>\n",
       "      <td>545.451104</td>\n",
       "      <td>528.0</td>\n",
       "      <td>61.195538</td>\n",
       "      <td>52.0</td>\n",
       "      <td>19.695005</td>\n",
       "      <td>19.0</td>\n",
       "      <td>2070.219436</td>\n",
       "      <td>1950.0</td>\n",
       "    </tr>\n",
       "  </tbody>\n",
       "</table>\n",
       "</div>"
      ],
      "text/plain": [
       "  tariff_name calls_duration_sum        messages_count           gb_used  \\\n",
       "                            mean median           mean median       mean   \n",
       "0       smart         419.062978  423.0      38.747390   34.0  16.337084   \n",
       "1       ultra         545.451104  528.0      61.195538   52.0  19.695005   \n",
       "\n",
       "              revenue          \n",
       "  median         mean  median  \n",
       "0   17.0  1290.225169  1023.0  \n",
       "1   19.0  2070.219436  1950.0  "
      ]
     },
     "execution_count": 25,
     "metadata": {},
     "output_type": "execute_result"
    }
   ],
   "source": [
    "# сгруппируем общую таблицу (чтобы было удобнее сравнивать) так, чтобы получить средние значения и медиану столбцов \n",
    "# с количеством минут, гб, сообщений и выручки в месяц для каждого тарифа\n",
    "general_data.groupby('tariff_name')[['calls_duration_sum', 'messages_count', 'gb_used', 'revenue']].agg(['mean', 'median']).reset_index()"
   ]
  },
  {
   "cell_type": "markdown",
   "metadata": {},
   "source": [
    "Итак, по этим данным можно сказать, что в среднем пользователи тарифа \"ультра\" тратят больше и минут, и сообщений, и гб (около 530-540 минут, 50-60 сообщений, 19-20 гб), в то время как пользователи тарифа \"смарт\" в среднем тратят меньше (около 420 минут, 34-38 сообщений, 16-17 гб), но в итоге часто выходят за лимиты и переплачивают за дополнительные минуты, сообщения и интернет-трафик. Пользователи тарифа \"ультра\" в среднем платят как раз стандартную абонентскую плату за тариф, в то время как пользователи тарифа \"смарт\" переплачивают почти в два раза больше абонентской платы.\n",
    "\n",
    "В целом, большой разницы между медианными и средними значениями не видно, различия колеблются в пределах нескольких процентов. Но в данных по сообщениям по обоим тарифам видно некоторую скошенность вправо, так как средние значения больше медиан. Также и в данных с выручкой видно скошенность вправо, то есть высокие значения выручки и количества сообщений влияют на среднее."
   ]
  },
  {
   "cell_type": "markdown",
   "metadata": {},
   "source": [
    "Найдем дисперсию и стандартное отклонение для данных по минутам, трафику и сообщениям в месяц в зависимости от тарифа.\n",
    "\n",
    "Для этого выделим две отдельные таблицы с данными по тарифам."
   ]
  },
  {
   "cell_type": "code",
   "execution_count": 26,
   "metadata": {},
   "outputs": [],
   "source": [
    "ultra = general_data[['calls_duration_sum', 'messages_count', 'gb_used', 'revenue']][general_data['tariff_name'] == 'ultra']\n",
    "smart = general_data[['calls_duration_sum', 'messages_count', 'gb_used', 'revenue']][general_data['tariff_name'] == 'smart']"
   ]
  },
  {
   "cell_type": "markdown",
   "metadata": {},
   "source": [
    "Начнем с тарифа \"ультра.\""
   ]
  },
  {
   "cell_type": "code",
   "execution_count": 27,
   "metadata": {},
   "outputs": [
    {
     "data": {
      "text/plain": [
       "calls_duration_sum     94104.361174\n",
       "messages_count          1996.949954\n",
       "gb_used                   94.677435\n",
       "revenue               143000.265328\n",
       "dtype: float64"
      ]
     },
     "execution_count": 27,
     "metadata": {},
     "output_type": "execute_result"
    }
   ],
   "source": [
    "# дисперсии данных тарифа \"ультра\"\n",
    "np.var(ultra)"
   ]
  },
  {
   "cell_type": "code",
   "execution_count": 28,
   "metadata": {},
   "outputs": [
    {
     "data": {
      "text/plain": [
       "calls_duration_sum    306.764341\n",
       "messages_count         44.687246\n",
       "gb_used                 9.730233\n",
       "revenue               378.153759\n",
       "dtype: float64"
      ]
     },
     "execution_count": 28,
     "metadata": {},
     "output_type": "execute_result"
    }
   ],
   "source": [
    "# стандартные отклонения данных тарифа \"ультра\"\n",
    "np.std(ultra)"
   ]
  },
  {
   "cell_type": "markdown",
   "metadata": {},
   "source": [
    "Далее найдем эти параметры для тарифа \"смарт\"."
   ]
  },
  {
   "cell_type": "code",
   "execution_count": 29,
   "metadata": {},
   "outputs": [
    {
     "data": {
      "text/plain": [
       "calls_duration_sum     35828.065310\n",
       "messages_count           718.797357\n",
       "gb_used                   32.972333\n",
       "revenue               670545.638737\n",
       "dtype: float64"
      ]
     },
     "execution_count": 29,
     "metadata": {},
     "output_type": "execute_result"
    }
   ],
   "source": [
    "# дисперсии данных тарифа \"смарт\"\n",
    "np.var(smart)"
   ]
  },
  {
   "cell_type": "code",
   "execution_count": 30,
   "metadata": {},
   "outputs": [
    {
     "data": {
      "text/plain": [
       "calls_duration_sum    189.283030\n",
       "messages_count         26.810396\n",
       "gb_used                 5.742154\n",
       "revenue               818.868511\n",
       "dtype: float64"
      ]
     },
     "execution_count": 30,
     "metadata": {},
     "output_type": "execute_result"
    }
   ],
   "source": [
    "# стандартные отклонения данных тарифа \"смарт\"\n",
    "np.std(smart)"
   ]
  },
  {
   "cell_type": "markdown",
   "metadata": {},
   "source": [
    "Для большинства распределений верно правило трёх стандартных отклонений, или правило трёх сигм. Оно гласит — практически все значения (около 99%) находятся в промежутке до 3 стандартных отклонений в положительную и в отрицательную сторону от среднего значения. То есть теперь легко посчитать, в каких примерно пределах находятся данные.\n",
    "\n",
    "Далее построим гистограммы для столбцов с минутами, сообщениями и гб интернет-трафика.\n",
    "\n",
    "Начнем с тарифа \"ультра\"."
   ]
  },
  {
   "cell_type": "code",
   "execution_count": 31,
   "metadata": {
    "scrolled": true
   },
   "outputs": [
    {
     "data": {
      "text/plain": [
       "<AxesSubplot:>"
      ]
     },
     "execution_count": 31,
     "metadata": {},
     "output_type": "execute_result"
    },
    {
     "data": {
      "image/png": "[encoded data removed]",
      "text/plain": [
       "<Figure size 432x288 with 1 Axes>"
      ]
     },
     "metadata": {
      "needs_background": "light"
     },
     "output_type": "display_data"
    }
   ],
   "source": [
    "ultra['calls_duration_sum'].hist(bins=100)"
   ]
  },
  {
   "cell_type": "markdown",
   "metadata": {},
   "source": [
    "На данной гистограмме видно нормальное распределение с обрывом слева, так как количество минут не может быть менее 0. Также значений 0 довольно много, так как это означает, что звонок был пропущен. Наибольший пик видно около 500-550, что соответствует среднему и медиане. Также можно увидеть, что пользователи тарифа \"ультра\" обычно не тратят и половины минут, имеющихся в тарифе (3000 минут), значения более 1500 уже крайне редки."
   ]
  },
  {
   "cell_type": "code",
   "execution_count": 32,
   "metadata": {},
   "outputs": [
    {
     "data": {
      "text/plain": [
       "<AxesSubplot:>"
      ]
     },
     "execution_count": 32,
     "metadata": {},
     "output_type": "execute_result"
    },
    {
     "data": {
      "image/png": "[encoded data removed]",
      "text/plain": [
       "<Figure size 432x288 with 1 Axes>"
      ]
     },
     "metadata": {
      "needs_background": "light"
     },
     "output_type": "display_data"
    }
   ],
   "source": [
    "ultra['messages_count'].hist(bins=50)"
   ]
  },
  {
   "cell_type": "markdown",
   "metadata": {},
   "source": [
    "Гистограмма имеет обрыв слева (количество сообщений не может быть меньше 0) и скошенность вправо (влияют высокие значения). \n",
    "На гистограмме с количеством сообщений тарифа \"ультра\" также видно, что пользователи тратят гораздо меньше, чем им доступно. В среднем, около 50 сообщений, что соответствует медиане и среднему, и что всего лишь 5% от всех доступных в тарифе (1000 сообщений). И значений 0, и около того, довольно много. Получается, что пользователи в принципе мало используют сообщения."
   ]
  },
  {
   "cell_type": "code",
   "execution_count": 33,
   "metadata": {
    "scrolled": true
   },
   "outputs": [
    {
     "data": {
      "text/plain": [
       "<AxesSubplot:>"
      ]
     },
     "execution_count": 33,
     "metadata": {},
     "output_type": "execute_result"
    },
    {
     "data": {
      "image/png": "[encoded data removed]",
      "text/plain": [
       "<Figure size 432x288 with 1 Axes>"
      ]
     },
     "metadata": {
      "needs_background": "light"
     },
     "output_type": "display_data"
    }
   ],
   "source": [
    "ultra['gb_used'].hist()"
   ]
  },
  {
   "cell_type": "markdown",
   "metadata": {},
   "source": [
    "На гистограмме с количеством потраченных за месяц гб интернет-трафика видно нормальное распределение. В среднем пользователи тратят около 20гб, что соответствует медиане и среднему. Также можно увидеть, что доступных 30гб трафика часто не хватает и клиенты тратят больше (от 30 до 50гб). Значит, переплаты в тарифе ультра бывают именно из-за превышения лимита доступного интернет-трафика."
   ]
  },
  {
   "cell_type": "markdown",
   "metadata": {},
   "source": [
    "Далее рассмотрим тариф \"смарт\"."
   ]
  },
  {
   "cell_type": "code",
   "execution_count": 34,
   "metadata": {},
   "outputs": [
    {
     "data": {
      "text/plain": [
       "<AxesSubplot:>"
      ]
     },
     "execution_count": 34,
     "metadata": {},
     "output_type": "execute_result"
    },
    {
     "data": {
      "image/png": "[encoded data removed]",
      "text/plain": [
       "<Figure size 432x288 with 1 Axes>"
      ]
     },
     "metadata": {
      "needs_background": "light"
     },
     "output_type": "display_data"
    }
   ],
   "source": [
    "smart['calls_duration_sum'].hist(bins=100)"
   ]
  },
  {
   "cell_type": "markdown",
   "metadata": {},
   "source": [
    "Гистограмма имеет нормальное распределение и небольшую скошенность влево (влияют малые значения). По данной гистограмме количества минут, потраченных за месяц, пользователем с тарифом \"смарт\", видно, что в среднем они тратят около 400-450 сообщений, что соответствует медиане и среднему. \n",
    "\n",
    "Также можно заметить, что довольно много пользователей превышает лимит по тарифу и использует за месяц в итоге больше 500 минут. Следовательно, немалый процент переплат в этом тарифе дают потраченные минут разговора."
   ]
  },
  {
   "cell_type": "code",
   "execution_count": 35,
   "metadata": {},
   "outputs": [
    {
     "data": {
      "text/plain": [
       "<AxesSubplot:>"
      ]
     },
     "execution_count": 35,
     "metadata": {},
     "output_type": "execute_result"
    },
    {
     "data": {
      "image/png": "[encoded data removed]",
      "text/plain": [
       "<Figure size 432x288 with 1 Axes>"
      ]
     },
     "metadata": {
      "needs_background": "light"
     },
     "output_type": "display_data"
    }
   ],
   "source": [
    "smart['messages_count'].hist(bins=50)"
   ]
  },
  {
   "cell_type": "markdown",
   "metadata": {},
   "source": [
    "Гистограмма имеет обрыв слева (количество сообщений не может быть меньше 0) и скошенность вправо (влияют высокие значения). В среднем пользователи тратят около 35-40 сообщений, что соответствует медиане и среднему. \n",
    "\n",
    "На гистограмме с количеством сообщений тарифа \"смарт\" также видно, что пользователи часто тратят больше, чем им доступно (50 сообщений), что приводит к переплате. Но также небольших и даже нулевых значений много, получается, что некоторые пользователи не используют сообщения."
   ]
  },
  {
   "cell_type": "code",
   "execution_count": 36,
   "metadata": {},
   "outputs": [
    {
     "data": {
      "text/plain": [
       "<AxesSubplot:>"
      ]
     },
     "execution_count": 36,
     "metadata": {},
     "output_type": "execute_result"
    },
    {
     "data": {
      "image/png": "[encoded data removed]",
      "text/plain": [
       "<Figure size 432x288 with 1 Axes>"
      ]
     },
     "metadata": {
      "needs_background": "light"
     },
     "output_type": "display_data"
    }
   ],
   "source": [
    "smart['gb_used'].hist()"
   ]
  },
  {
   "cell_type": "markdown",
   "metadata": {},
   "source": [
    "Данная гистограмма имеет нормальное распределение, но также имеет плато примерно от 12 до 22 гб. В среднем это 17 гб интернет-трафика, что соответствует медиане и среднему. Сразу заметно, что пользователи тарифа \"смарт\" в среднем выходят за рамки доступных по тарифу 15гб и сильно переплачивают. Некоторые даже превышают лимит в 2 и более раза (более 30гб)."
   ]
  },
  {
   "cell_type": "markdown",
   "metadata": {},
   "source": [
    "### Вывод"
   ]
  },
  {
   "cell_type": "markdown",
   "metadata": {},
   "source": [
    "Итак, проанализировали данные, изучили поведение клиентов, узнали, сколько в среднем минут разговора, сколько сообщений и какой объём интернет-трафика требуется пользователям каждого тарифа в месяц.\n",
    "\n",
    "Данные, которые были получены (использование минут, сообщений, интернет-трафика в среднем за месяц):\n",
    "\n",
    "Тариф \"ультра\":\n",
    "- количество минут 530-540\n",
    "- количество сообщений 50-60\n",
    "- количество гб интернет-трафика 19-20\n",
    "\n",
    "Тариф \"смарт\":\n",
    "- количество минут 420\n",
    "- количество сообщений 34-38\n",
    "- количество гб интернет-трафика 16-17\n",
    "\n",
    "Выяснилось, что количество включенных в тарифы гб интернет-трафика часто не хватает пользователям обоих тарифов, но особенно клиентам с тарифом \"смарт\", которые даже в среднем тратят больше доступного лимита.\n",
    "\n",
    "Количества сообщений хватает всем пользователям тарифа \"ультра\" и большинству тарифа \"смарт\".\n",
    "\n",
    "Количества доступных минут хватает пользователям тарифа \"ультра\", но часто не хватает пользователям тарифа \"смарт\", хотя в среднем клиенты укладываются в лимит.\n",
    "\n",
    "В итоге получается, что клиенты с тарифом \"ультра\" очень редко платят сверх своей абонентской платы, в то время как пользователи тарифа \"смарт\" регулярно переплачивают."
   ]
  },
  {
   "cell_type": "markdown",
   "metadata": {},
   "source": [
    "## Проверка гипотез"
   ]
  },
  {
   "cell_type": "markdown",
   "metadata": {},
   "source": [
    "Далее проверим гипотезы:\n",
    "- средняя выручка пользователей тарифов «Ультра» и «Смарт» различаются\n",
    "- средняя выручка пользователей из Москвы отличается от выручки пользователей из других регионов"
   ]
  },
  {
   "cell_type": "markdown",
   "metadata": {},
   "source": [
    "### Гипотеза о различии выручки пользователей тарифов «Ультра» и «Смарт» "
   ]
  },
  {
   "cell_type": "markdown",
   "metadata": {},
   "source": [
    "Начнем с проверки первой гипотезы про различие средней выручки у пользователей разных тарифов. Таблицы с данными по разным тарифам у нас уже имеются.\n",
    "\n",
    "Нулевая гипотеза всегда должна означать равенство. Таким образом, нулевая гипотеза будет гласить: средняя выручка пользователей тарифов «Ультра» и «Смарт» одинакова.\n",
    "\n",
    "Альтернативная же гипотеза: средняя выручка пользователей тарифов «Ультра» и «Смарт» различна (двустороняя гипотеза). "
   ]
  },
  {
   "cell_type": "code",
   "execution_count": 38,
   "metadata": {},
   "outputs": [
    {
     "name": "stdout",
     "output_type": "stream",
     "text": [
      "p-значение: 2.796424815525196e-246\n",
      "Отвергаем нулевую гипотезу\n"
     ]
    }
   ],
   "source": [
    "# критический уровень статистической значимости\n",
    "alpha = .05\n",
    "# проверка гипотезы о равенстве средних значений выручки тарифов\n",
    "results = st.ttest_ind(ultra['revenue'], smart['revenue'],  equal_var = False) \n",
    "print('p-значение:', results.pvalue)\n",
    "\n",
    "if results.pvalue < alpha:\n",
    "    print(\"Отвергаем нулевую гипотезу\")\n",
    "else:\n",
    "    print(\"Не получилось отвергнуть нулевую гипотезу\")"
   ]
  },
  {
   "cell_type": "markdown",
   "metadata": {},
   "source": [
    "Итак, проверка показала, что нулевая гипотеза отвергнута. Следовательно, вероятность того, что выручка у пользователей разных тарифов разная, выше. Значит, выручка действительно зависит от тарифа."
   ]
  },
  {
   "cell_type": "markdown",
   "metadata": {},
   "source": [
    "### Гипотеза о различии средней выручки пользователей из Москвы и пользователей из других регионов"
   ]
  },
  {
   "cell_type": "markdown",
   "metadata": {},
   "source": [
    "Далее проверим вторую гипотезу про различие средней выручки у пользователей разных регионов.\n",
    "\n",
    "Нулевая гипотеза будет гласить: средняя выручка пользователей из Москвы и других регионов одинакова.\n",
    "\n",
    "Альтернативная же гипотеза: средняя выручка пользователей из Москвы отличается от выручки пользователей из других регионов (двустороняя гипотеза). "
   ]
  },
  {
   "cell_type": "code",
   "execution_count": 39,
   "metadata": {},
   "outputs": [],
   "source": [
    "moscow = general_data['revenue'][general_data['city'] == 'Москва']\n",
    "other = general_data['revenue'][general_data['city'] != 'Москва']"
   ]
  },
  {
   "cell_type": "code",
   "execution_count": 40,
   "metadata": {},
   "outputs": [
    {
     "name": "stdout",
     "output_type": "stream",
     "text": [
      "p-значение: 0.4452390325541491\n",
      "Не получилось отвергнуть нулевую гипотезу\n"
     ]
    }
   ],
   "source": [
    "# критический уровень статистической значимости\n",
    "alpha = .05\n",
    "# проверка гипотезы о равенстве средних значений выручки пользователей разных регионов\n",
    "results = st.ttest_ind(moscow, other, equal_var = False)\n",
    "print('p-значение:', results.pvalue)\n",
    "\n",
    "if results.pvalue < alpha:\n",
    "    print(\"Отвергаем нулевую гипотезу\")\n",
    "else:\n",
    "    print(\"Не получилось отвергнуть нулевую гипотезу\")"
   ]
  },
  {
   "cell_type": "markdown",
   "metadata": {},
   "source": [
    "Таким образом, не удалось отвергнуть нулевую гипотезу.  44% - это явно слишком большая вероятность, чтобы делать вывод о значимом различии между выручкой. А значит, нельзя точно сказать, действительно ли равны или различны данные по выручке пользователей из разных регионов. "
   ]
  },
  {
   "cell_type": "markdown",
   "metadata": {},
   "source": [
    "### Вывод"
   ]
  },
  {
   "cell_type": "markdown",
   "metadata": {},
   "source": [
    "Итак, были сформулированы и проверены две гипотезы:\n",
    "- средняя выручка пользователей тарифов «Ультра» и «Смарт» различаются\n",
    "- средняя выручка пользователей из Москвы отличается от выручки пользователей из других регионов\n",
    "\n",
    "Результаты получили следующие:\n",
    "- выручка действительно зависит от тарифа\n",
    "- нет оснований полагать, что выручка зависит от региона проживания клиента\n",
    "\n",
    "Нулевая гипотеза была сформулирована в обоих случаях на основании равенства, то есть она противоположна изначально заданной. Альтернативная же гипотеза как раз соответствует необходимой для исследования гипотезе о различии совокупностей данных о выручке.\n",
    "\n",
    "Рассматривали гипотезу о равенстве средних двух независимых генеральных совокупностей, так как наши выборки (какой тариф и какой регион проживания у клиента) не зависимы друг от друга. \n",
    "\n",
    "Использовался t-test (ttest_ind)."
   ]
  },
  {
   "cell_type": "markdown",
   "metadata": {},
   "source": [
    "## Общий вывод"
   ]
  },
  {
   "cell_type": "markdown",
   "metadata": {},
   "source": [
    "Подводя итог, произведен предварительный анализ тарифов и поведения клиентов на небольшой выборке (500 пользователей «Мегалайна»).\n",
    "\n",
    "1. Вначале подготовили данные:\n",
    "- привели данные к нужным типам (тип object заменен на необходимый, датам изменили тип на datetime)\n",
    "- найдена и исправлена ошибка в данных (безымянный столбец в таблице internet удален)\n",
    "\n",
    "2. Посчитали для каждого пользователя:\n",
    "- количество сделанных звонков и израсходованных минут разговора по месяцам;\n",
    "- количество отправленных сообщений по месяцам;\n",
    "- объем израсходованного интернет-трафика по месяцам;\n",
    "- помесячную выручку с каждого пользователя \n",
    "\n",
    " Была создана общая таблица с необходимыми данными для исследования. С помощью метода *merge* объединили таблицы с данными по пользователям, их звонкам, сообщениям, использованному интернет-трафику. А также в таблицу добавили данные по тарифу.\n",
    "\n",
    " Выручка была найдена с помощью функции, которая на вход принимала строку общей таблицы и возвращала доход от пользователя за месяц.\n",
    "\n",
    "3. Проанализировали данные, изучили поведение клиентов, узнали, сколько в среднем минут разговора, сколько сообщений и какой объём интернет-трафика требуется пользователям каждого тарифа в месяц.\n",
    "\n",
    " Данные, которые были получены (использование минут, сообщений, интернет-трафика в среднем за месяц):\n",
    "\n",
    " Тариф \"ультра\":\n",
    "\n",
    "- количество минут 530-540\n",
    "- количество сообщений 50-60\n",
    "- количество гб интернет-трафика 19-20\n",
    "\n",
    " Тариф \"смарт\":\n",
    "\n",
    "- количество минут 420\n",
    "- количество сообщений 34-38\n",
    "- количество гб интернет-трафика 16-17\n",
    "\n",
    " Выяснилось, что количество включенных в тарифы гб интернет-трафика часто не хватает пользователям обоих тарифов, но особенно клиентам с тарифом \"смарт\", которые даже в среднем тратят больше доступного лимита.\n",
    "\n",
    " Количества сообщений хватает всем пользователям тарифа \"ультра\" и большинству тарифа \"смарт\".\n",
    "\n",
    " Количества доступных минут хватает пользователям тарифа \"ультра\", но часто не хватает пользователям тарифа \"смарт\", хотя в среднем клиенты укладываются в лимит.\n",
    "\n",
    " В итоге получается, что клиенты с тарифом \"ультра\" очень редко платят сверх своей абонентской платы, в то время как пользователи тарифа \"смарт\" регулярно переплачивают.\n",
    "\n",
    "4. Проверили гипотезы:\n",
    "- средняя выручка пользователей тарифов «Ультра» и «Смарт» различаются\n",
    "- средняя выручка пользователей из Москвы отличается от выручки пользователей из других регионов\n",
    "\n",
    " Результаты получили следующие:\n",
    "\n",
    "- выручка действительно зависит от тарифа\n",
    "- нет оснований полагать, что выручка зависит от региона проживания клиента"
   ]
  }
 ],
 "metadata": {
  "kernelspec": {
   "display_name": "Python 3 (ipykernel)",
   "language": "python",
   "name": "python3"
  },
  "language_info": {
   "codemirror_mode": {
    "name": "ipython",
    "version": 3
   },
   "file_extension": ".py",
   "mimetype": "text/x-python",
   "name": "python",
   "nbconvert_exporter": "python",
   "pygments_lexer": "ipython3",
   "version": "3.9.13"
  },
  "toc": {
   "base_numbering": 1,
   "nav_menu": {
    "height": "55px",
    "width": "324px"
   },
   "number_sections": true,
   "sideBar": true,
   "skip_h1_title": true,
   "title_cell": "Содержание",
   "title_sidebar": "Contents",
   "toc_cell": true,
   "toc_position": {
    "height": "calc(100% - 180px)",
    "left": "10px",
    "top": "150px",
    "width": "165px"
   },
   "toc_section_display": true,
   "toc_window_display": false
  }
 },
 "nbformat": 4,
 "nbformat_minor": 2
}
