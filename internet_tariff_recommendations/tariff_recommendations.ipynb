{
 "cells": [
  {
   "cell_type": "markdown",
   "metadata": {
    "toc": true
   },
   "source": [
    "<h1>Содержание<span class=\"tocSkip\"></span></h1>\n",
    "<div class=\"toc\"><ul class=\"toc-item\"><li><span><a href=\"#Откройте-и-изучите-файл\" data-toc-modified-id=\"Откройте-и-изучите-файл-1\"><span class=\"toc-item-num\">1&nbsp;&nbsp;</span>Откройте и изучите файл</a></span></li><li><span><a href=\"#Разбейте-данные-на-выборки\" data-toc-modified-id=\"Разбейте-данные-на-выборки-2\"><span class=\"toc-item-num\">2&nbsp;&nbsp;</span>Разбейте данные на выборки</a></span></li><li><span><a href=\"#Исследуйте-модели\" data-toc-modified-id=\"Исследуйте-модели-3\"><span class=\"toc-item-num\">3&nbsp;&nbsp;</span>Исследуйте модели</a></span><ul class=\"toc-item\"><li><span><a href=\"#Вывод\" data-toc-modified-id=\"Вывод-3.1\"><span class=\"toc-item-num\">3.1&nbsp;&nbsp;</span>Вывод</a></span></li></ul></li><li><span><a href=\"#Проверьте-модель-на-тестовой-выборке\" data-toc-modified-id=\"Проверьте-модель-на-тестовой-выборке-4\"><span class=\"toc-item-num\">4&nbsp;&nbsp;</span>Проверьте модель на тестовой выборке</a></span></li><li><span><a href=\"#(бонус)-Проверьте-модели-на-адекватность\" data-toc-modified-id=\"(бонус)-Проверьте-модели-на-адекватность-5\"><span class=\"toc-item-num\">5&nbsp;&nbsp;</span>(бонус) Проверьте модели на адекватность</a></span></li><li><span><a href=\"#Чек-лист-готовности-проекта\" data-toc-modified-id=\"Чек-лист-готовности-проекта-6\"><span class=\"toc-item-num\">6&nbsp;&nbsp;</span>Чек-лист готовности проекта</a></span></li></ul></div>"
   ]
  },
  {
   "cell_type": "markdown",
   "metadata": {},
   "source": [
    "# Рекомендация тарифов"
   ]
  },
  {
   "cell_type": "markdown",
   "metadata": {},
   "source": [
    "Оператор мобильной связи выяснил: многие клиенты пользуются архивными тарифами. Они хотят построить систему, способную проанализировать поведение клиентов и предложить пользователям новый тариф.\n",
    "\n",
    "Для работы выданы данные о поведении клиентов, которые уже перешли на тарифы провайдера. Нужно построить модель для задачи классификации, которая выберет подходящий тариф."
   ]
  },
  {
   "cell_type": "markdown",
   "metadata": {},
   "source": [
    "## Откройте и изучите файл"
   ]
  },
  {
   "cell_type": "code",
   "execution_count": 1,
   "metadata": {},
   "outputs": [],
   "source": [
    "import pandas as pd\n",
    "from sklearn.model_selection import train_test_split\n",
    "from sklearn.metrics import accuracy_score\n",
    "from sklearn.tree import DecisionTreeClassifier\n",
    "from sklearn.ensemble import RandomForestClassifier\n",
    "from sklearn.linear_model import LogisticRegression\n",
    "from sklearn.metrics import f1_score\n",
    "from sklearn.metrics import precision_score\n",
    "from sklearn.metrics import recall_score\n",
    "from sklearn.metrics import confusion_matrix\n",
    "from sklearn.dummy import DummyClassifier \n",
    "import numpy as np"
   ]
  },
  {
   "cell_type": "code",
   "execution_count": 2,
   "metadata": {},
   "outputs": [],
   "source": [
    "try:\n",
    "    df = pd.read_csv('datasets/users_behavior.csv')\n",
    "except:\n",
    "    df = pd.read_csv('/datasets/users_behavior.csv')"
   ]
  },
  {
   "cell_type": "code",
   "execution_count": 3,
   "metadata": {},
   "outputs": [
    {
     "name": "stdout",
     "output_type": "stream",
     "text": [
      "<class 'pandas.core.frame.DataFrame'>\n",
      "RangeIndex: 3214 entries, 0 to 3213\n",
      "Data columns (total 5 columns):\n",
      " #   Column    Non-Null Count  Dtype  \n",
      "---  ------    --------------  -----  \n",
      " 0   calls     3214 non-null   float64\n",
      " 1   minutes   3214 non-null   float64\n",
      " 2   messages  3214 non-null   float64\n",
      " 3   mb_used   3214 non-null   float64\n",
      " 4   is_ultra  3214 non-null   int64  \n",
      "dtypes: float64(4), int64(1)\n",
      "memory usage: 125.7 KB\n"
     ]
    }
   ],
   "source": [
    "# изучим общую информацию\n",
    "df.info()"
   ]
  },
  {
   "cell_type": "markdown",
   "metadata": {},
   "source": [
    "Каждый объект в наборе данных — это информация о поведении одного пользователя за месяц. Известно:\n",
    "- сalls — количество звонков\n",
    "- minutes — суммарная длительность звонков в минутах\n",
    "- messages — количество sms-сообщений\n",
    "- mb_used — израсходованный интернет-трафик в Мб\n",
    "- is_ultra — каким тарифом пользовался в течение месяца («Ультра» — 1, «Смарт» — 0)"
   ]
  },
  {
   "cell_type": "markdown",
   "metadata": {},
   "source": [
    "## Разбейте данные на выборки"
   ]
  },
  {
   "cell_type": "markdown",
   "metadata": {},
   "source": [
    "Итак, чтобы лучше оценить обученную модель (нет ли переобучения и тд) нужны не только обучающая и тестовая, но и валидационная выборка.\n",
    "\n",
    "Поэтому нужно разбить данные на три части: обучающая(60%), валидационная(20%) и тестовая(20%)."
   ]
  },
  {
   "cell_type": "code",
   "execution_count": 4,
   "metadata": {},
   "outputs": [],
   "source": [
    "features = df.drop('is_ultra', axis=1)\n",
    "target = df['is_ultra']\n",
    "\n",
    "# сначала отделим обучающую выборку\n",
    "features_train, features_valid_and_test, target_train, target_valid_and_test = train_test_split(features, \n",
    "                                                                                                target, test_size=0.4, \n",
    "                                                                                                random_state=12345, \n",
    "                                                                                                stratify=target)\n",
    "# теперь разделим валидационную и тестовую\n",
    "features_valid, features_test, target_valid, target_test = train_test_split(features_valid_and_test, \n",
    "                                                                            target_valid_and_test, test_size=0.5, \n",
    "                                                                            random_state=12345, \n",
    "                                                                            stratify=target_valid_and_test)"
   ]
  },
  {
   "cell_type": "markdown",
   "metadata": {},
   "source": [
    "Теперь проверим размеры получившихся выборок."
   ]
  },
  {
   "cell_type": "code",
   "execution_count": 5,
   "metadata": {},
   "outputs": [
    {
     "data": {
      "text/plain": [
       "((1928, 4), (1928,))"
      ]
     },
     "execution_count": 5,
     "metadata": {},
     "output_type": "execute_result"
    }
   ],
   "source": [
    "# обучающая\n",
    "features_train.shape, target_train.shape"
   ]
  },
  {
   "cell_type": "code",
   "execution_count": 6,
   "metadata": {},
   "outputs": [
    {
     "data": {
      "text/plain": [
       "((643, 4), (643,))"
      ]
     },
     "execution_count": 6,
     "metadata": {},
     "output_type": "execute_result"
    }
   ],
   "source": [
    "# валидационная\n",
    "features_valid.shape, target_valid.shape"
   ]
  },
  {
   "cell_type": "code",
   "execution_count": 7,
   "metadata": {
    "scrolled": true
   },
   "outputs": [
    {
     "data": {
      "text/plain": [
       "((643, 4), (643,))"
      ]
     },
     "execution_count": 7,
     "metadata": {},
     "output_type": "execute_result"
    }
   ],
   "source": [
    "# тестовая\n",
    "features_test.shape, target_test.shape"
   ]
  },
  {
   "cell_type": "markdown",
   "metadata": {},
   "source": [
    "Данные разделены правильно."
   ]
  },
  {
   "cell_type": "markdown",
   "metadata": {},
   "source": [
    "## Исследуйте модели"
   ]
  },
  {
   "cell_type": "markdown",
   "metadata": {},
   "source": [
    "В данной работе целевой признак категориальный, поэтому решается задача классификации. А так как варианта всего два: тариф \"ультра\" и тариф \"смарт\", то классификация - бинарная.\n",
    "\n",
    "В таком случае для обучения модели и решения задачи мы можем использовать эти алгоритмы: дерево решений, случайный лес и логистическую регрессию.\n",
    "\n",
    "Начнем с исследования модели решающего дерева."
   ]
  },
  {
   "cell_type": "code",
   "execution_count": 8,
   "metadata": {},
   "outputs": [
    {
     "name": "stdout",
     "output_type": "stream",
     "text": [
      "Accuracy лучшей модели: 0.80248833592535\n",
      "Глубина лучшей модели: 6\n",
      "Минимальное число объектов в узле дерева: 2\n",
      "Минимальное число объектов в листьях дерева: 4\n"
     ]
    }
   ],
   "source": [
    "best_model_dtc = None\n",
    "best_result_dtc = 0\n",
    "best_depth_dtc = 0\n",
    "best_split_dtc = 0\n",
    "best_leaf_dtc = 0\n",
    "\n",
    "for depth in range(1,11):\n",
    "    for split in range(2, 102, 10):\n",
    "        for leaf in range(2, 10):\n",
    "            model_tree = DecisionTreeClassifier(random_state=12345, max_depth=depth, class_weight = 'balanced',\n",
    "                                                min_samples_split=split, min_samples_leaf=leaf)\n",
    "            model_tree.fit(features_train, target_train)\n",
    "            predictions = model_tree.predict(features_valid)\n",
    "            result = accuracy_score(target_valid, predictions)\n",
    "            if result > best_result_dtc:\n",
    "                best_result_dtc = result\n",
    "                best_model_dtc = model_tree\n",
    "                best_depth_dtc = depth\n",
    "                best_split_dtc = split\n",
    "                best_leaf_dtc = leaf\n",
    "        \n",
    "print(\"Accuracy лучшей модели:\", best_result_dtc)\n",
    "print('Глубина лучшей модели:', best_depth_dtc)\n",
    "print('Минимальное число объектов в узле дерева:', best_split_dtc)\n",
    "print('Минимальное число объектов в листьях дерева:', best_leaf_dtc)"
   ]
  },
  {
   "cell_type": "markdown",
   "metadata": {},
   "source": [
    "Узнали наиболее результативные гиперпараметры для решающего дерева. Теперь у нас есть модель с наилучшими в заданных диапазонах значениями.\n",
    "\n",
    "Далее будем исследовать модель случайного леса. "
   ]
  },
  {
   "cell_type": "code",
   "execution_count": 9,
   "metadata": {},
   "outputs": [
    {
     "name": "stdout",
     "output_type": "stream",
     "text": [
      "Accuracy лучшей модели: 0.8087091757387247\n",
      "Число деревьев лучшей модели: 31\n",
      "Глубина деревьев: 6\n",
      "Минимальное число объектов в узле дерева: 17\n",
      "Минимальное число объектов в листьях дерева: 4\n"
     ]
    }
   ],
   "source": [
    "best_model_rfc = None\n",
    "best_est_rfc = 0\n",
    "best_result_rfc = 0\n",
    "best_depth_rfc = 0\n",
    "best_split_rfc = 0\n",
    "best_leaf_rfc = 0\n",
    "\n",
    "for est in range(1, 61, 10):\n",
    "    for depth in range(1, 13):\n",
    "        for split in range(2, 52, 5):\n",
    "            for leaf in range (2, 12, 2):\n",
    "                model_forest = RandomForestClassifier(random_state=12345, n_estimators=est, class_weight = 'balanced', \n",
    "                                                       max_depth=depth, min_samples_split=split, min_samples_leaf=leaf)\n",
    "                model_forest.fit(features_train, target_train)\n",
    "                predictions = model_forest.predict(features_valid)\n",
    "                result = accuracy_score(target_valid, predictions)\n",
    "                if result > best_result_rfc:\n",
    "                    best_result_rfc = result\n",
    "                    best_model_rfc = model_forest\n",
    "                    best_depth_rfc = depth\n",
    "                    best_split_rfc = split\n",
    "                    best_leaf_rfc = leaf\n",
    "                    best_est_rfc = est\n",
    "        \n",
    "print('Accuracy лучшей модели:', best_result_rfc)\n",
    "print('Число деревьев лучшей модели:', best_est_rfc)\n",
    "print('Глубина деревьев:', best_depth_rfc)\n",
    "print('Минимальное число объектов в узле дерева:', best_split_rfc)\n",
    "print('Минимальное число объектов в листьях дерева:', best_leaf_rfc)"
   ]
  },
  {
   "cell_type": "markdown",
   "metadata": {},
   "source": [
    "Достигли большего значения accuracy (0.805), чем было до изменения гиперпараметров. Теперь у нас есть модель с лучшими значениями гиперпараметров (из заданного диапазона).\n",
    "\n",
    "Далее остается создать и исследовать модель, обученную с помощью логистической регрессии."
   ]
  },
  {
   "cell_type": "code",
   "execution_count": 10,
   "metadata": {},
   "outputs": [
    {
     "name": "stdout",
     "output_type": "stream",
     "text": [
      "Лучшая модель - первая\n",
      "Accuracy лучшей модели: 0.7387247278382582\n"
     ]
    }
   ],
   "source": [
    "best_model_lr = None\n",
    "best_result_lr = 0\n",
    "\n",
    "first_model_lr = LogisticRegression(random_state=12345)\n",
    "first_model_lr.fit(features_train, target_train)\n",
    "predictions = first_model_lr.predict(features_valid)\n",
    "first_result_lr = accuracy_score(target_valid, predictions)\n",
    "\n",
    "second_model_lr = LogisticRegression(random_state=12345, penalty='l1', solver='liblinear')\n",
    "second_model_lr.fit(features_train, target_train)\n",
    "predictions = second_model_lr.predict(features_valid)\n",
    "second_result_lr = accuracy_score(target_valid, predictions)\n",
    "\n",
    "if second_result_lr > first_result_lr:\n",
    "    best_result_lr = second_result_lr\n",
    "    best_model_lr = second_model_lr\n",
    "    print('Лучшая модель - вторая')\n",
    "else:\n",
    "    best_result_lr = first_result_lr\n",
    "    best_model_lr = first_model_lr\n",
    "    print('Лучшая модель - первая')\n",
    "\n",
    "print(\"Accuracy лучшей модели:\", best_result_lr)"
   ]
  },
  {
   "cell_type": "markdown",
   "metadata": {},
   "source": [
    "Сравнили две модели: первая с гиперпараметрами по умолчанию (кроме random_state), вторая - с измененными. Использовался гиперпараметр solver='liblinear', так как, судя по документации, он больше подходит для не очень больших объемов данных. После изменения значений различных гиперпараметров выяснилось, что penalty='l1' дает лучший результат accuracy, но, тем не менее, он наименьший из всех трех."
   ]
  },
  {
   "cell_type": "markdown",
   "metadata": {},
   "source": [
    "### Вывод"
   ]
  },
  {
   "cell_type": "markdown",
   "metadata": {},
   "source": [
    "Итак, создали, обучили и исследовали три вида моделей: решающее дерево, случайный лес и логистическая регрессия. \n",
    "\n",
    "Сначала исследовали **решающее дерево (DecisionTreeClassifier)**. В цикле создавались разные деревья с разными гиперпараметрами, обучались, делались предсказания, качество которых потом проверялось (accuracy) и сравнивалось. В итоге получили такие значения гиперпараметров как самые результативные: \n",
    "\n",
    "- глубина дерева (max_depth) = 6\n",
    "- минимальное число объектов в узле дерева (min_samples_split) = 2\n",
    "- минимальное число объектов в листьях дерева (min_samples_leaf) = 4\n",
    "- **Accuracy** лучшей модели = 0.804\n",
    "\n",
    "Далее рассматривали **случайный лес (RandomForestClassifier)**. Также использовался цикл, чтобы проверить какие результаты дает разное количество деревьев в лесе, потом - какие результаты получаются после изменения других гиперпараметров. Получили модель с такими гиперпараметрами:\n",
    "\n",
    "- число деревьев (n_estimators) = 31\n",
    "- глубина деревьев (max_depth) = 6\n",
    "- минимальное число объектов в узле дерева (min_samples_split) = 17\n",
    "- минимальное число объектов в листьях дерева (min_samples_leaf) = 4\n",
    "- **Accuracy** лучшей модели = 0.8087\n",
    "\n",
    "Последней стала **логистическая регрессия (LogisticRegression)**. У нее не так много гиперпараметров, которые можно легко менять. Из документации были взяты penalty='l1', solver='liblinear', так как они подходят для небольших датафреймов и бинарной классификации. Сравнили модель с этими гиперпараметрами с моделью по умолчанию. Более результативной стала измененная модель.\n",
    "- **Accuracy** лучшей модели = 0.739\n",
    "\n",
    "Таким образом самой точной моделью (после проверки на валидационной выборке) стал **случайный лес**."
   ]
  },
  {
   "cell_type": "markdown",
   "metadata": {},
   "source": [
    "## Проверьте модель на тестовой выборке"
   ]
  },
  {
   "cell_type": "markdown",
   "metadata": {},
   "source": [
    "Теперь обученную модель случайного леса с самым высоким результатом accuracy можно проверить на тестовой выборке. Перед этим обучим ее дополнительно на валидационной выборке."
   ]
  },
  {
   "cell_type": "code",
   "execution_count": 11,
   "metadata": {
    "scrolled": true
   },
   "outputs": [
    {
     "name": "stdout",
     "output_type": "stream",
     "text": [
      "Accuracy лучшей модели случайного леса: 0.8118195956454122\n"
     ]
    }
   ],
   "source": [
    "best_model_rfc.fit(pd.concat([features_valid, features_train]), pd.concat([target_valid, target_train]))\n",
    "predictions = best_model_rfc.predict(features_test)\n",
    "result = accuracy_score(target_test, predictions)\n",
    "print('Accuracy лучшей модели случайного леса:', result)"
   ]
  },
  {
   "cell_type": "markdown",
   "metadata": {},
   "source": [
    "Посмотрим на другие метрики качества."
   ]
  },
  {
   "cell_type": "code",
   "execution_count": 12,
   "metadata": {},
   "outputs": [
    {
     "data": {
      "text/plain": [
       "array([[398,  48],\n",
       "       [ 73, 124]])"
      ]
     },
     "execution_count": 12,
     "metadata": {},
     "output_type": "execute_result"
    }
   ],
   "source": [
    "confusion_matrix(target_test, predictions)"
   ]
  },
  {
   "cell_type": "markdown",
   "metadata": {},
   "source": [
    "Наша модель случайного леса наделала ошибок как ложноположительных (41), так и ложноотрицательных (73). Но правильных ответов, в целом, большинство."
   ]
  },
  {
   "cell_type": "code",
   "execution_count": 13,
   "metadata": {
    "scrolled": true
   },
   "outputs": [
    {
     "data": {
      "text/plain": [
       "0.7209302325581395"
      ]
     },
     "execution_count": 13,
     "metadata": {},
     "output_type": "execute_result"
    }
   ],
   "source": [
    "precision_score(target_test, predictions)"
   ]
  },
  {
   "cell_type": "markdown",
   "metadata": {},
   "source": [
    "Полнота - метрика качества классификации, показывает, какова доля истинно-положительных ответов среди всех, у которых истинная метка 1.\n",
    "В данном случае результат довольно неплох, более 0.72."
   ]
  },
  {
   "cell_type": "code",
   "execution_count": 14,
   "metadata": {},
   "outputs": [
    {
     "data": {
      "text/plain": [
       "0.6294416243654822"
      ]
     },
     "execution_count": 14,
     "metadata": {},
     "output_type": "execute_result"
    }
   ],
   "source": [
    "recall_score(target_test, predictions)"
   ]
  },
  {
   "cell_type": "markdown",
   "metadata": {},
   "source": [
    "Точность показывает, какую долю объектов, распознанных как объекты положительного класса, мы предсказали верно. Тут результат чуть похуже, ложноположительных ответов больше чем ложноотрицательных."
   ]
  },
  {
   "cell_type": "code",
   "execution_count": 15,
   "metadata": {},
   "outputs": [
    {
     "data": {
      "text/plain": [
       "0.6720867208672087"
      ]
     },
     "execution_count": 15,
     "metadata": {},
     "output_type": "execute_result"
    }
   ],
   "source": [
    "f1_score(target_test, predictions)"
   ]
  },
  {
   "cell_type": "markdown",
   "metadata": {},
   "source": [
    "F1 мера - это среднее гармоническое полноты и точности. В целом, результат нельзя назвать плохим - более 0.67."
   ]
  },
  {
   "cell_type": "markdown",
   "metadata": {},
   "source": [
    "Лучшая модель снова показала хороший результат, Accuracy выше 0.811. Проверка пройдена.\n",
    "\n",
    "Для данного датафрейма случайный лес хороший выбор, так как количество данных здесь небольшое. В иных случаях же он может оказаться слишком медленным, хотя он показывает хорошую точность."
   ]
  },
  {
   "cell_type": "markdown",
   "metadata": {},
   "source": [
    "## Проверка модели на адекватность"
   ]
  },
  {
   "cell_type": "code",
   "execution_count": 16,
   "metadata": {},
   "outputs": [],
   "source": [
    "dc_mf = DummyClassifier() \n",
    "dc_mf.fit(features_train, target_train) \n",
    "\n",
    "predictions_rfc = best_model_rfc.predict(features_test)\n",
    "predictions_dc = dc_mf.predict(features_test)"
   ]
  },
  {
   "cell_type": "code",
   "execution_count": 17,
   "metadata": {},
   "outputs": [
    {
     "data": {
      "text/plain": [
       "0.8118195956454122"
      ]
     },
     "execution_count": 17,
     "metadata": {},
     "output_type": "execute_result"
    }
   ],
   "source": [
    "accuracy_score(target_test, predictions_rfc)"
   ]
  },
  {
   "cell_type": "code",
   "execution_count": 18,
   "metadata": {},
   "outputs": [
    {
     "data": {
      "text/plain": [
       "0.6936236391912908"
      ]
     },
     "execution_count": 18,
     "metadata": {},
     "output_type": "execute_result"
    }
   ],
   "source": [
    "accuracy_score(target_test, predictions_dc)"
   ]
  },
  {
   "cell_type": "markdown",
   "metadata": {},
   "source": [
    "Значения метрики accuracy довольно высоки в обоих случаях: и для нашей лучшей модели, и для примитивной. Стоит рассмотреть другие метрики качества.\n",
    "\n",
    "Посмотрим на матрицу неточностей."
   ]
  },
  {
   "cell_type": "code",
   "execution_count": 19,
   "metadata": {},
   "outputs": [
    {
     "data": {
      "text/plain": [
       "array([[398,  48],\n",
       "       [ 73, 124]])"
      ]
     },
     "execution_count": 19,
     "metadata": {},
     "output_type": "execute_result"
    }
   ],
   "source": [
    "confusion_matrix(target_test, predictions_rfc)"
   ]
  },
  {
   "cell_type": "code",
   "execution_count": 20,
   "metadata": {
    "scrolled": false
   },
   "outputs": [
    {
     "data": {
      "text/plain": [
       "array([[446,   0],\n",
       "       [197,   0]])"
      ]
     },
     "execution_count": 20,
     "metadata": {},
     "output_type": "execute_result"
    }
   ],
   "source": [
    "confusion_matrix(target_test, predictions_dc)"
   ]
  },
  {
   "cell_type": "markdown",
   "metadata": {},
   "source": [
    "Очевидно, примитивная модель указала больше истинно отрицательных ответов потому, что она указала все ответы как наиболее часто встречающиеся отрицательные.\n",
    "\n",
    "Рассмотрим метрику F1 и сравним результаты."
   ]
  },
  {
   "cell_type": "code",
   "execution_count": 21,
   "metadata": {},
   "outputs": [
    {
     "name": "stdout",
     "output_type": "stream",
     "text": [
      "Метрика F1 примитивной модели: 0.0\n",
      "Метрика F1 лучшей модели случайного леса: 0.6720867208672087\n",
      "Ура! Модель адекватна.\n"
     ]
    }
   ],
   "source": [
    "result_rfc = f1_score(target_test, predictions_rfc)\n",
    "result_dc = f1_score(target_test, predictions_dc)\n",
    "\n",
    "print('Метрика F1 примитивной модели:', result_dc)\n",
    "print('Метрика F1 лучшей модели случайного леса:', result_rfc)\n",
    "\n",
    "if result_rfc > result_dc:\n",
    "    print('Ура! Модель адекватна.')\n",
    "else:\n",
    "    print('Модель не прошла проверку на вменяемость.')"
   ]
  }
 ],
 "metadata": {
  "ExecuteTimeLog": [
   {
    "duration": 1451,
    "start_time": "2022-07-04T18:39:31.373Z"
   },
   {
    "duration": 6,
    "start_time": "2022-07-04T18:39:32.827Z"
   },
   {
    "duration": 5,
    "start_time": "2022-07-04T18:39:32.834Z"
   },
   {
    "duration": 111,
    "start_time": "2022-07-04T18:39:32.841Z"
   },
   {
    "duration": 0,
    "start_time": "2022-07-04T18:39:32.954Z"
   },
   {
    "duration": 0,
    "start_time": "2022-07-04T18:39:32.955Z"
   },
   {
    "duration": 0,
    "start_time": "2022-07-04T18:39:32.956Z"
   },
   {
    "duration": 0,
    "start_time": "2022-07-04T18:39:32.957Z"
   },
   {
    "duration": 0,
    "start_time": "2022-07-04T18:39:32.958Z"
   },
   {
    "duration": 4613,
    "start_time": "2022-07-04T18:39:49.242Z"
   },
   {
    "duration": 1455,
    "start_time": "2022-07-04T18:39:59.535Z"
   },
   {
    "duration": 9,
    "start_time": "2022-07-04T18:40:00.993Z"
   },
   {
    "duration": 14,
    "start_time": "2022-07-04T18:40:01.005Z"
   },
   {
    "duration": 4797,
    "start_time": "2022-07-04T18:40:01.022Z"
   },
   {
    "duration": 1056,
    "start_time": "2022-07-04T18:40:05.825Z"
   },
   {
    "duration": 21315,
    "start_time": "2022-07-04T18:40:06.883Z"
   },
   {
    "duration": 46,
    "start_time": "2022-07-04T18:40:28.199Z"
   },
   {
    "duration": 11,
    "start_time": "2022-07-04T18:40:28.247Z"
   },
   {
    "duration": 13,
    "start_time": "2022-07-04T18:40:28.260Z"
   },
   {
    "duration": 1293,
    "start_time": "2022-07-09T06:21:07.818Z"
   },
   {
    "duration": 11,
    "start_time": "2022-07-09T06:21:09.112Z"
   },
   {
    "duration": 9,
    "start_time": "2022-07-09T06:21:09.125Z"
   },
   {
    "duration": 7,
    "start_time": "2022-07-09T06:21:09.136Z"
   },
   {
    "duration": 6,
    "start_time": "2022-07-09T06:21:09.144Z"
   },
   {
    "duration": 5,
    "start_time": "2022-07-09T06:21:09.151Z"
   },
   {
    "duration": 4479,
    "start_time": "2022-07-09T06:21:09.157Z"
   },
   {
    "duration": 209626,
    "start_time": "2022-07-09T06:21:13.638Z"
   },
   {
    "duration": 44,
    "start_time": "2022-07-09T06:24:43.266Z"
   },
   {
    "duration": 61,
    "start_time": "2022-07-09T06:24:43.313Z"
   },
   {
    "duration": 11,
    "start_time": "2022-07-09T06:24:43.376Z"
   },
   {
    "duration": 5,
    "start_time": "2022-07-09T06:24:43.388Z"
   },
   {
    "duration": 106,
    "start_time": "2022-07-09T06:24:43.394Z"
   },
   {
    "duration": 0,
    "start_time": "2022-07-09T06:24:43.501Z"
   },
   {
    "duration": 1,
    "start_time": "2022-07-09T06:24:43.502Z"
   },
   {
    "duration": 0,
    "start_time": "2022-07-09T06:24:43.503Z"
   },
   {
    "duration": 0,
    "start_time": "2022-07-09T06:24:43.504Z"
   },
   {
    "duration": 0,
    "start_time": "2022-07-09T06:24:43.505Z"
   },
   {
    "duration": 0,
    "start_time": "2022-07-09T06:24:43.506Z"
   },
   {
    "duration": 0,
    "start_time": "2022-07-09T06:24:43.508Z"
   },
   {
    "duration": 0,
    "start_time": "2022-07-09T06:24:43.508Z"
   },
   {
    "duration": 0,
    "start_time": "2022-07-09T06:24:43.509Z"
   },
   {
    "duration": 77,
    "start_time": "2022-07-09T06:25:09.652Z"
   },
   {
    "duration": 7,
    "start_time": "2022-07-09T06:27:04.820Z"
   },
   {
    "duration": 375,
    "start_time": "2022-07-09T06:27:21.851Z"
   },
   {
    "duration": 186,
    "start_time": "2022-07-09T06:29:19.324Z"
   },
   {
    "duration": 10,
    "start_time": "2022-07-09T06:30:59.130Z"
   },
   {
    "duration": 6,
    "start_time": "2022-07-09T06:31:12.978Z"
   },
   {
    "duration": 9,
    "start_time": "2022-07-09T06:31:26.243Z"
   },
   {
    "duration": 135,
    "start_time": "2022-07-09T06:31:41.266Z"
   },
   {
    "duration": 139,
    "start_time": "2022-07-09T06:31:45.339Z"
   },
   {
    "duration": 6,
    "start_time": "2022-07-09T06:32:50.579Z"
   },
   {
    "duration": 6,
    "start_time": "2022-07-09T06:32:52.370Z"
   },
   {
    "duration": 5,
    "start_time": "2022-07-09T06:32:54.323Z"
   },
   {
    "duration": 10,
    "start_time": "2022-07-09T06:32:57.642Z"
   },
   {
    "duration": 4,
    "start_time": "2022-07-09T06:32:57.835Z"
   },
   {
    "duration": 4,
    "start_time": "2022-07-09T06:32:58.234Z"
   },
   {
    "duration": 6,
    "start_time": "2022-07-09T06:33:27.977Z"
   },
   {
    "duration": 5,
    "start_time": "2022-07-09T06:33:28.242Z"
   },
   {
    "duration": 6,
    "start_time": "2022-07-09T06:33:32.130Z"
   },
   {
    "duration": 46,
    "start_time": "2022-07-09T13:48:27.811Z"
   },
   {
    "duration": 7,
    "start_time": "2022-07-09T13:48:28.360Z"
   },
   {
    "duration": 1137,
    "start_time": "2022-07-09T13:48:32.407Z"
   },
   {
    "duration": 14,
    "start_time": "2022-07-09T13:48:33.546Z"
   },
   {
    "duration": 12,
    "start_time": "2022-07-09T13:48:33.562Z"
   },
   {
    "duration": 9,
    "start_time": "2022-07-09T13:48:33.576Z"
   },
   {
    "duration": 5,
    "start_time": "2022-07-09T13:48:33.587Z"
   },
   {
    "duration": 7,
    "start_time": "2022-07-09T13:48:33.593Z"
   },
   {
    "duration": 5170,
    "start_time": "2022-07-09T13:48:33.601Z"
   },
   {
    "duration": 253564,
    "start_time": "2022-07-09T13:48:38.773Z"
   },
   {
    "duration": 51,
    "start_time": "2022-07-09T13:52:52.339Z"
   },
   {
    "duration": 113,
    "start_time": "2022-07-09T13:52:52.391Z"
   },
   {
    "duration": 0,
    "start_time": "2022-07-09T13:52:52.506Z"
   },
   {
    "duration": 0,
    "start_time": "2022-07-09T13:52:52.507Z"
   },
   {
    "duration": 0,
    "start_time": "2022-07-09T13:52:52.508Z"
   },
   {
    "duration": 0,
    "start_time": "2022-07-09T13:52:52.509Z"
   },
   {
    "duration": 0,
    "start_time": "2022-07-09T13:52:52.510Z"
   },
   {
    "duration": 0,
    "start_time": "2022-07-09T13:52:52.512Z"
   },
   {
    "duration": 0,
    "start_time": "2022-07-09T13:52:52.512Z"
   },
   {
    "duration": 0,
    "start_time": "2022-07-09T13:52:52.513Z"
   },
   {
    "duration": 0,
    "start_time": "2022-07-09T13:52:52.515Z"
   },
   {
    "duration": 0,
    "start_time": "2022-07-09T13:52:52.516Z"
   },
   {
    "duration": 0,
    "start_time": "2022-07-09T13:52:52.517Z"
   },
   {
    "duration": 65,
    "start_time": "2022-07-09T16:04:01.795Z"
   },
   {
    "duration": 1263,
    "start_time": "2022-07-09T16:04:10.314Z"
   },
   {
    "duration": 91,
    "start_time": "2022-07-09T16:04:11.579Z"
   },
   {
    "duration": 14,
    "start_time": "2022-07-09T16:04:11.672Z"
   },
   {
    "duration": 14,
    "start_time": "2022-07-09T16:04:11.687Z"
   },
   {
    "duration": 11,
    "start_time": "2022-07-09T16:04:11.704Z"
   },
   {
    "duration": 43,
    "start_time": "2022-07-09T16:04:11.717Z"
   },
   {
    "duration": 16,
    "start_time": "2022-07-09T16:04:11.762Z"
   },
   {
    "duration": 5940,
    "start_time": "2022-07-09T16:04:11.780Z"
   },
   {
    "duration": 278255,
    "start_time": "2022-07-09T16:04:17.723Z"
   },
   {
    "duration": 90,
    "start_time": "2022-07-09T16:08:55.980Z"
   },
   {
    "duration": 124,
    "start_time": "2022-07-09T16:08:56.072Z"
   },
   {
    "duration": 0,
    "start_time": "2022-07-09T16:08:56.203Z"
   },
   {
    "duration": 0,
    "start_time": "2022-07-09T16:08:56.205Z"
   },
   {
    "duration": 0,
    "start_time": "2022-07-09T16:08:56.206Z"
   },
   {
    "duration": 0,
    "start_time": "2022-07-09T16:08:56.208Z"
   },
   {
    "duration": 0,
    "start_time": "2022-07-09T16:08:56.210Z"
   },
   {
    "duration": 0,
    "start_time": "2022-07-09T16:08:56.211Z"
   },
   {
    "duration": 0,
    "start_time": "2022-07-09T16:08:56.222Z"
   },
   {
    "duration": 0,
    "start_time": "2022-07-09T16:08:56.223Z"
   },
   {
    "duration": 0,
    "start_time": "2022-07-09T16:08:56.224Z"
   },
   {
    "duration": 0,
    "start_time": "2022-07-09T16:08:56.227Z"
   },
   {
    "duration": 0,
    "start_time": "2022-07-09T16:08:56.229Z"
   },
   {
    "duration": 10,
    "start_time": "2022-07-09T16:17:55.785Z"
   },
   {
    "duration": 11,
    "start_time": "2022-07-09T16:17:58.806Z"
   },
   {
    "duration": 13,
    "start_time": "2022-07-09T16:17:59.223Z"
   },
   {
    "duration": 6,
    "start_time": "2022-07-09T16:19:07.831Z"
   },
   {
    "duration": 116,
    "start_time": "2022-07-09T16:19:08.727Z"
   },
   {
    "duration": 21,
    "start_time": "2022-07-09T16:19:25.487Z"
   },
   {
    "duration": 105,
    "start_time": "2022-07-09T16:20:16.276Z"
   },
   {
    "duration": 119,
    "start_time": "2022-07-09T16:20:27.815Z"
   },
   {
    "duration": 6,
    "start_time": "2022-07-09T16:20:31.557Z"
   },
   {
    "duration": 7,
    "start_time": "2022-07-09T16:20:33.378Z"
   },
   {
    "duration": 10,
    "start_time": "2022-07-09T16:20:34.455Z"
   },
   {
    "duration": 8,
    "start_time": "2022-07-09T16:20:38.330Z"
   },
   {
    "duration": 1376,
    "start_time": "2022-07-10T05:07:31.660Z"
   },
   {
    "duration": 167,
    "start_time": "2022-07-10T05:07:33.038Z"
   },
   {
    "duration": 12,
    "start_time": "2022-07-10T05:07:33.207Z"
   },
   {
    "duration": 15,
    "start_time": "2022-07-10T05:07:33.221Z"
   },
   {
    "duration": 23,
    "start_time": "2022-07-10T05:07:33.240Z"
   },
   {
    "duration": 7,
    "start_time": "2022-07-10T05:07:33.265Z"
   },
   {
    "duration": 12,
    "start_time": "2022-07-10T05:07:33.274Z"
   },
   {
    "duration": 5386,
    "start_time": "2022-07-10T05:07:33.289Z"
   },
   {
    "duration": 253116,
    "start_time": "2022-07-10T05:07:38.677Z"
   },
   {
    "duration": 55,
    "start_time": "2022-07-10T05:11:51.795Z"
   },
   {
    "duration": 122,
    "start_time": "2022-07-10T05:11:51.852Z"
   },
   {
    "duration": 6,
    "start_time": "2022-07-10T05:11:51.976Z"
   },
   {
    "duration": 15,
    "start_time": "2022-07-10T05:11:51.984Z"
   },
   {
    "duration": 6,
    "start_time": "2022-07-10T05:11:52.002Z"
   },
   {
    "duration": 6,
    "start_time": "2022-07-10T05:11:52.009Z"
   },
   {
    "duration": 11,
    "start_time": "2022-07-10T05:11:52.017Z"
   },
   {
    "duration": 5,
    "start_time": "2022-07-10T05:11:52.030Z"
   },
   {
    "duration": 8,
    "start_time": "2022-07-10T05:11:52.037Z"
   },
   {
    "duration": 6,
    "start_time": "2022-07-10T05:11:52.047Z"
   },
   {
    "duration": 6,
    "start_time": "2022-07-10T05:11:52.097Z"
   },
   {
    "duration": 8,
    "start_time": "2022-07-10T05:11:52.105Z"
   }
  ],
  "kernelspec": {
   "display_name": "Python 3 (ipykernel)",
   "language": "python",
   "name": "python3"
  },
  "language_info": {
   "codemirror_mode": {
    "name": "ipython",
    "version": 3
   },
   "file_extension": ".py",
   "mimetype": "text/x-python",
   "name": "python",
   "nbconvert_exporter": "python",
   "pygments_lexer": "ipython3",
   "version": "3.9.13"
  },
  "toc": {
   "base_numbering": 1,
   "nav_menu": {},
   "number_sections": true,
   "sideBar": true,
   "skip_h1_title": true,
   "title_cell": "Содержание",
   "title_sidebar": "Contents",
   "toc_cell": true,
   "toc_position": {},
   "toc_section_display": true,
   "toc_window_display": false
  }
 },
 "nbformat": 4,
 "nbformat_minor": 2
}
