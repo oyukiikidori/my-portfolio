{
 "cells": [
  {
   "cell_type": "markdown",
   "metadata": {
    "toc": true
   },
   "source": [
    "<h1>Содержание<span class=\"tocSkip\"></span></h1>\n",
    "<div class=\"toc\"><ul class=\"toc-item\"><li><span><a href=\"#Загрузка-и-подготовка-данных\" data-toc-modified-id=\"Загрузка-и-подготовка-данных-1\"><span class=\"toc-item-num\">1&nbsp;&nbsp;</span>Загрузка и подготовка данных</a></span><ul class=\"toc-item\"><li><span><a href=\"#Вывод\" data-toc-modified-id=\"Вывод-1.1\"><span class=\"toc-item-num\">1.1&nbsp;&nbsp;</span>Вывод</a></span></li></ul></li><li><span><a href=\"#Обучение-и-проверка-модели\" data-toc-modified-id=\"Обучение-и-проверка-модели-2\"><span class=\"toc-item-num\">2&nbsp;&nbsp;</span>Обучение и проверка модели</a></span><ul class=\"toc-item\"><li><span><a href=\"#Вывод\" data-toc-modified-id=\"Вывод-2.1\"><span class=\"toc-item-num\">2.1&nbsp;&nbsp;</span>Вывод</a></span></li></ul></li><li><span><a href=\"#Подготовка-к-расчёту-прибыли\" data-toc-modified-id=\"Подготовка-к-расчёту-прибыли-3\"><span class=\"toc-item-num\">3&nbsp;&nbsp;</span>Подготовка к расчёту прибыли</a></span><ul class=\"toc-item\"><li><span><a href=\"#Вывод\" data-toc-modified-id=\"Вывод-3.1\"><span class=\"toc-item-num\">3.1&nbsp;&nbsp;</span>Вывод</a></span></li></ul></li><li><span><a href=\"#Расчёт-прибыли-и-рисков\" data-toc-modified-id=\"Расчёт-прибыли-и-рисков-4\"><span class=\"toc-item-num\">4&nbsp;&nbsp;</span>Расчёт прибыли и рисков</a></span></li><li><span><a href=\"#Общий-вывод\" data-toc-modified-id=\"Общий-вывод-5\"><span class=\"toc-item-num\">5&nbsp;&nbsp;</span>Общий вывод</a></span></li><li><span><a href=\"#Чек-лист-готовности-проекта\" data-toc-modified-id=\"Чек-лист-готовности-проекта-6\"><span class=\"toc-item-num\">6&nbsp;&nbsp;</span>Чек-лист готовности проекта</a></span></li></ul></div>"
   ]
  },
  {
   "cell_type": "markdown",
   "metadata": {},
   "source": [
    "# Выбор локации для скважины"
   ]
  },
  {
   "cell_type": "markdown",
   "metadata": {},
   "source": [
    "Для добывающей компании нужно решить, где бурить новую скважину.\n",
    "\n",
    "Предоставлены пробы нефти в трёх регионах: в каждом 10 000 месторождений, где измерили качество нефти и объём её запасов. Построим модель машинного обучения, которая поможет определить регион, где добыча принесёт наибольшую прибыль. Проанализируем возможную прибыль и риски техникой *Bootstrap.*\n",
    "\n",
    "Шаги для выбора локации:\n",
    "\n",
    "- В избранном регионе ищем месторождения, для каждого определяем значения признаков\n",
    "- Строим модели и оцениваем объём запасов\n",
    "- Выбираем месторождения с самыми высокими оценками значений (количество месторождений зависит от бюджета компании и стоимости разработки одной скважины)\n",
    "- Прибыль равна суммарной прибыли отобранных месторождений"
   ]
  },
  {
   "cell_type": "markdown",
   "metadata": {},
   "source": [
    "## Загрузка и подготовка данных"
   ]
  },
  {
   "cell_type": "code",
   "execution_count": 1,
   "metadata": {},
   "outputs": [],
   "source": [
    "import pandas as pd\n",
    "\n",
    "import seaborn as sns\n",
    "\n",
    "import matplotlib.pyplot as plt\n",
    "\n",
    "import numpy as np\n",
    "from numpy.random import RandomState\n",
    "\n",
    "from sklearn.linear_model import LinearRegression\n",
    "\n",
    "from sklearn.model_selection import train_test_split\n",
    "from sklearn.model_selection import GridSearchCV\n",
    "from sklearn.model_selection import cross_val_score\n",
    "\n",
    "from sklearn.metrics import f1_score\n",
    "from sklearn.metrics import roc_auc_score\n",
    "from sklearn.metrics import mean_squared_error\n",
    "\n",
    "from sklearn.preprocessing import StandardScaler\n",
    "\n",
    "from sklearn.utils import shuffle\n",
    "\n",
    "from scipy import stats as st"
   ]
  },
  {
   "cell_type": "code",
   "execution_count": 2,
   "metadata": {},
   "outputs": [],
   "source": [
    "try:\n",
    "    data_1 = pd.read_csv('/datasets/geo_data_0.csv')\n",
    "    data_2 = pd.read_csv('/datasets/geo_data_1.csv')\n",
    "    data_3 = pd.read_csv('/datasets/geo_data_2.csv')\n",
    "except:\n",
    "    data_1 = pd.read_csv('datasets/geo_data_0.csv')\n",
    "    data_2 = pd.read_csv('datasets/geo_data_1.csv')\n",
    "    data_3 = pd.read_csv('datasets/geo_data_2.csv')"
   ]
  },
  {
   "cell_type": "markdown",
   "metadata": {},
   "source": [
    "Теперь у нас есть три датафрейма с данными о пробах нефти в трех регионах, изучим общую информацию о них."
   ]
  },
  {
   "cell_type": "code",
   "execution_count": 3,
   "metadata": {},
   "outputs": [
    {
     "name": "stdout",
     "output_type": "stream",
     "text": [
      "<class 'pandas.core.frame.DataFrame'>\n",
      "RangeIndex: 100000 entries, 0 to 99999\n",
      "Data columns (total 5 columns):\n",
      " #   Column   Non-Null Count   Dtype  \n",
      "---  ------   --------------   -----  \n",
      " 0   id       100000 non-null  object \n",
      " 1   f0       100000 non-null  float64\n",
      " 2   f1       100000 non-null  float64\n",
      " 3   f2       100000 non-null  float64\n",
      " 4   product  100000 non-null  float64\n",
      "dtypes: float64(4), object(1)\n",
      "memory usage: 3.8+ MB\n"
     ]
    }
   ],
   "source": [
    "data_1.info()"
   ]
  },
  {
   "cell_type": "code",
   "execution_count": 4,
   "metadata": {},
   "outputs": [
    {
     "name": "stdout",
     "output_type": "stream",
     "text": [
      "<class 'pandas.core.frame.DataFrame'>\n",
      "RangeIndex: 100000 entries, 0 to 99999\n",
      "Data columns (total 5 columns):\n",
      " #   Column   Non-Null Count   Dtype  \n",
      "---  ------   --------------   -----  \n",
      " 0   id       100000 non-null  object \n",
      " 1   f0       100000 non-null  float64\n",
      " 2   f1       100000 non-null  float64\n",
      " 3   f2       100000 non-null  float64\n",
      " 4   product  100000 non-null  float64\n",
      "dtypes: float64(4), object(1)\n",
      "memory usage: 3.8+ MB\n"
     ]
    }
   ],
   "source": [
    "data_2.info()"
   ]
  },
  {
   "cell_type": "code",
   "execution_count": 5,
   "metadata": {},
   "outputs": [
    {
     "name": "stdout",
     "output_type": "stream",
     "text": [
      "<class 'pandas.core.frame.DataFrame'>\n",
      "RangeIndex: 100000 entries, 0 to 99999\n",
      "Data columns (total 5 columns):\n",
      " #   Column   Non-Null Count   Dtype  \n",
      "---  ------   --------------   -----  \n",
      " 0   id       100000 non-null  object \n",
      " 1   f0       100000 non-null  float64\n",
      " 2   f1       100000 non-null  float64\n",
      " 3   f2       100000 non-null  float64\n",
      " 4   product  100000 non-null  float64\n",
      "dtypes: float64(4), object(1)\n",
      "memory usage: 3.8+ MB\n"
     ]
    }
   ],
   "source": [
    "data_3.info()"
   ]
  },
  {
   "cell_type": "markdown",
   "metadata": {},
   "source": [
    "Каждый датасет содержит информацию о 10000 месторождений, пропусков в данных нет.\n",
    "\n",
    "В каждом датасете 5 столбцов:\n",
    "- id — уникальный идентификатор скважины\n",
    "- f0, f1, f2 — три признака точек (количественные)\n",
    "- product — объём запасов в скважине (тыс. баррелей)\n",
    "\n",
    "Также проверим наличие дубликатов в данных."
   ]
  },
  {
   "cell_type": "code",
   "execution_count": 6,
   "metadata": {},
   "outputs": [
    {
     "data": {
      "text/plain": [
       "0"
      ]
     },
     "execution_count": 6,
     "metadata": {},
     "output_type": "execute_result"
    }
   ],
   "source": [
    "data_1.duplicated().sum()"
   ]
  },
  {
   "cell_type": "code",
   "execution_count": 7,
   "metadata": {},
   "outputs": [
    {
     "data": {
      "text/plain": [
       "0"
      ]
     },
     "execution_count": 7,
     "metadata": {},
     "output_type": "execute_result"
    }
   ],
   "source": [
    "data_2.duplicated().sum()"
   ]
  },
  {
   "cell_type": "code",
   "execution_count": 8,
   "metadata": {},
   "outputs": [
    {
     "data": {
      "text/plain": [
       "0"
      ]
     },
     "execution_count": 8,
     "metadata": {},
     "output_type": "execute_result"
    }
   ],
   "source": [
    "data_3.duplicated().sum()"
   ]
  },
  {
   "cell_type": "markdown",
   "metadata": {},
   "source": [
    "Явные дубликаты не обнаружены.\n",
    "\n",
    "Столбец с id нам не нужен, он не влияет на целевой признак. Так что удалим его."
   ]
  },
  {
   "cell_type": "code",
   "execution_count": 9,
   "metadata": {},
   "outputs": [],
   "source": [
    "data_1 = data_1.drop('id', axis=1)\n",
    "data_2 = data_2.drop('id', axis=1)\n",
    "data_3 = data_3.drop('id', axis=1)"
   ]
  },
  {
   "cell_type": "markdown",
   "metadata": {},
   "source": [
    "Изучим распределение данных по объему продукта в каждом регионе, построим гистограммы."
   ]
  },
  {
   "cell_type": "code",
   "execution_count": 10,
   "metadata": {},
   "outputs": [
    {
     "data": {
      "image/png": "[encoded data removed]",
      "text/plain": [
       "<Figure size 432x288 with 1 Axes>"
      ]
     },
     "metadata": {
      "needs_background": "light"
     },
     "output_type": "display_data"
    }
   ],
   "source": [
    "data_1['product'].hist()\n",
    "plt.title('Распределение объема сырья в первом регионе')\n",
    "plt.xlabel('Объем запасов в месторождении (тыс. баррелей)')\n",
    "plt.show()"
   ]
  },
  {
   "cell_type": "markdown",
   "metadata": {},
   "source": [
    "На гистограмме для первого региона видно нормальное распределение. Судя по графику, в среднем запас в скважине около 90 тыс баррелей. Месторождений с небольшими запасами (до 20 тыс баррелей) довольно мало, с очень большими (более 165 тыс баррелей) тоже совсем не много. Данные выглядят правдоподобно."
   ]
  },
  {
   "cell_type": "code",
   "execution_count": 11,
   "metadata": {},
   "outputs": [
    {
     "data": {
      "image/png": "[encoded data removed]",
      "text/plain": [
       "<Figure size 432x288 with 1 Axes>"
      ]
     },
     "metadata": {
      "needs_background": "light"
     },
     "output_type": "display_data"
    }
   ],
   "source": [
    "data_2['product'].hist()\n",
    "plt.title('Распределение объема сырья во втором регионе')\n",
    "plt.xlabel('Объем запасов в месторождении (тыс. баррелей)')\n",
    "plt.show()"
   ]
  },
  {
   "cell_type": "markdown",
   "metadata": {},
   "source": [
    "Во втором регионе распределение данных по объему запасов выглядит необычно. В этом регионе очень много (более 16 тыс.) скважин с совсем небольшими запасами сырья (до 15 тыс баррелей) и также много месторождений с большими запасами (около 125-140 тыс баррелей), а в остальном (скважины с запасом от 15 до 125 тыс баррелей) - плато, данные распределены равномерно."
   ]
  },
  {
   "cell_type": "code",
   "execution_count": 12,
   "metadata": {},
   "outputs": [
    {
     "data": {
      "image/png": "[encoded data removed]",
      "text/plain": [
       "<Figure size 432x288 with 1 Axes>"
      ]
     },
     "metadata": {
      "needs_background": "light"
     },
     "output_type": "display_data"
    }
   ],
   "source": [
    "data_3['product'].hist()\n",
    "plt.title('Распределение объема сырья в третьем регионе')\n",
    "plt.xlabel('Объем запасов в месторождении (тыс. баррелей)')\n",
    "plt.show()"
   ]
  },
  {
   "cell_type": "markdown",
   "metadata": {},
   "source": [
    "На гистограмме по данным из третьего региона видно нормальное распределение. Также как и в первом регионе - скважин с маленькими или очень большими запасами мало, в среднем в месторождении около 90 тыс баррелей."
   ]
  },
  {
   "cell_type": "markdown",
   "metadata": {},
   "source": [
    "Далее проверим, есть ли зависимости между признаками с помощью тепловой карты корреляции Пирсона.\n",
    "\n",
    "Для первого региона:"
   ]
  },
  {
   "cell_type": "code",
   "execution_count": 13,
   "metadata": {},
   "outputs": [
    {
     "data": {
      "image/png": "[encoded data removed]",
      "text/plain": [
       "<Figure size 432x288 with 2 Axes>"
      ]
     },
     "metadata": {
      "needs_background": "light"
     },
     "output_type": "display_data"
    }
   ],
   "source": [
    "sns.heatmap(data_1.corr(), annot=True);"
   ]
  },
  {
   "cell_type": "markdown",
   "metadata": {},
   "source": [
    "Тепловая карта по данным из первого региона показала наличие линейной зависимости (коэффициент корреляции 0.44) признаков f0 и f1. Также можно заметить, что объем запасов сильнее всего зависит от признака f2 (коэффициент корреляции 0.48).\n",
    "\n",
    "Для второго региона:"
   ]
  },
  {
   "cell_type": "code",
   "execution_count": 14,
   "metadata": {},
   "outputs": [
    {
     "data": {
      "image/png": "[encoded data removed]",
      "text/plain": [
       "<Figure size 432x288 with 2 Axes>"
      ]
     },
     "metadata": {
      "needs_background": "light"
     },
     "output_type": "display_data"
    }
   ],
   "source": [
    "sns.heatmap(data_2.corr(), annot=True);"
   ]
  },
  {
   "cell_type": "markdown",
   "metadata": {},
   "source": [
    "Во втором регионе сразу заметна прямая взаимосвязь признака f2 и запасов сырья (коэффициент корреляции = 1), кажется, что признаки f0 и f1 совсем не влияют на целевой признак. Но, вероятно, что связь целевого признака и признаков f0, f1 не линейная, поэтому коэффициент корреляции примерно равен нулю, так как он показывает только линейную связь.\n",
    "\n",
    "Для третьего региона:"
   ]
  },
  {
   "cell_type": "code",
   "execution_count": 15,
   "metadata": {},
   "outputs": [
    {
     "data": {
      "image/png": "[encoded data removed]",
      "text/plain": [
       "<Figure size 432x288 with 2 Axes>"
      ]
     },
     "metadata": {
      "needs_background": "light"
     },
     "output_type": "display_data"
    }
   ],
   "source": [
    "sns.heatmap(data_3.corr(), annot=True);"
   ]
  },
  {
   "cell_type": "markdown",
   "metadata": {},
   "source": [
    "В третьем регионе также видна взаимосвязь признака f2 и целевого признака, но коэффициент корреляции уже значительно ниже (0.45). Признаки f0, f1, f2 не имеют линейной зависимости."
   ]
  },
  {
   "cell_type": "markdown",
   "metadata": {},
   "source": [
    "### Вывод"
   ]
  },
  {
   "cell_type": "markdown",
   "metadata": {},
   "source": [
    "Итак, данные подготовлены к работе. Что было сделано:\n",
    "\n",
    "- Сначала были созданы три датафрейма, изучены.\n",
    "- Данные проверены на явные дубликаты\n",
    "- Удален столбец id, так как он не нужен для решения поставленной задачи.\n",
    "- Построены гистограммы распределения целевого признака product\n",
    "- Построены тепловые карты корреляции Пирсона для данных по трем регионам."
   ]
  },
  {
   "cell_type": "markdown",
   "metadata": {},
   "source": [
    "## Обучение и проверка модели"
   ]
  },
  {
   "cell_type": "markdown",
   "metadata": {},
   "source": [
    "Разделим данные на признаки и целевой признак, а также на выборки: обучающую и валидационную."
   ]
  },
  {
   "cell_type": "code",
   "execution_count": 16,
   "metadata": {},
   "outputs": [],
   "source": [
    "features_1 = data_1.drop('product', axis=1)\n",
    "features_2 = data_2.drop('product', axis=1)\n",
    "features_3 = data_3.drop('product', axis=1)\n",
    "\n",
    "target_1 = data_1['product']\n",
    "target_2 = data_2['product']\n",
    "target_3 = data_3['product']\n",
    "\n",
    "features_train_1, features_valid_1, target_train_1, target_valid_1 = train_test_split(features_1, target_1, test_size=0.25, \n",
    "                                                                                      random_state=12345)\n",
    "\n",
    "features_train_2, features_valid_2, target_train_2, target_valid_2 = train_test_split(features_2, target_2, test_size=0.25, \n",
    "                                                                                      random_state=12345)\n",
    "\n",
    "features_train_3, features_valid_3, target_train_3, target_valid_3 = train_test_split(features_3, target_3, test_size=0.25, \n",
    "                                                                                      random_state=12345)"
   ]
  },
  {
   "cell_type": "markdown",
   "metadata": {},
   "source": [
    "Теперь у нас есть обучающая и валидационная выборки для каждого региона.\n",
    "\n",
    "Проверим размер нескольких выборок, правильно ли поделены данные."
   ]
  },
  {
   "cell_type": "code",
   "execution_count": 17,
   "metadata": {},
   "outputs": [
    {
     "data": {
      "text/plain": [
       "(75000, 3)"
      ]
     },
     "execution_count": 17,
     "metadata": {},
     "output_type": "execute_result"
    }
   ],
   "source": [
    "features_train_1.shape"
   ]
  },
  {
   "cell_type": "code",
   "execution_count": 18,
   "metadata": {},
   "outputs": [
    {
     "data": {
      "text/plain": [
       "(25000, 3)"
      ]
     },
     "execution_count": 18,
     "metadata": {},
     "output_type": "execute_result"
    }
   ],
   "source": [
    "features_valid_1.shape"
   ]
  },
  {
   "cell_type": "code",
   "execution_count": 19,
   "metadata": {},
   "outputs": [
    {
     "data": {
      "text/plain": [
       "(75000,)"
      ]
     },
     "execution_count": 19,
     "metadata": {},
     "output_type": "execute_result"
    }
   ],
   "source": [
    "target_train_2.shape"
   ]
  },
  {
   "cell_type": "code",
   "execution_count": 20,
   "metadata": {},
   "outputs": [
    {
     "data": {
      "text/plain": [
       "(25000,)"
      ]
     },
     "execution_count": 20,
     "metadata": {},
     "output_type": "execute_result"
    }
   ],
   "source": [
    "target_valid_3.shape"
   ]
  },
  {
   "cell_type": "markdown",
   "metadata": {},
   "source": [
    "Данные поделены верно.\n",
    "\n",
    "Также нужно масштабировать количественные признаки f0, f1, f2, так как они могут иметь разный разброс значений, из-за чего во время обучения модель может принять какие-то из них как более важные, что исказит результаты предсказаний. Сделаем это с помощью стандартизации данных."
   ]
  },
  {
   "cell_type": "code",
   "execution_count": 21,
   "metadata": {},
   "outputs": [],
   "source": [
    "pd.options.mode.chained_assignment = None\n",
    "\n",
    "scaler_1 = StandardScaler()\n",
    "scaler_1.fit(features_train_1)\n",
    "\n",
    "scaler_2 = StandardScaler()\n",
    "scaler_2.fit(features_train_2)\n",
    "\n",
    "scaler_3 = StandardScaler()\n",
    "scaler_3.fit(features_train_3)\n",
    "\n",
    "features_train_1 = scaler_1.transform(features_train_1)\n",
    "features_train_2 = scaler_2.transform(features_train_2)\n",
    "features_train_3 = scaler_3.transform(features_train_3)\n",
    "\n",
    "features_valid_1 = scaler_1.transform(features_valid_1)\n",
    "features_valid_2 = scaler_2.transform(features_valid_2)\n",
    "features_valid_3 = scaler_3.transform(features_valid_3)"
   ]
  },
  {
   "cell_type": "markdown",
   "metadata": {},
   "source": [
    "Создадим и обучим модель линейной регрессии для данных из каждого региона."
   ]
  },
  {
   "cell_type": "code",
   "execution_count": 22,
   "metadata": {},
   "outputs": [
    {
     "data": {
      "text/plain": [
       "LinearRegression(n_jobs=-1)"
      ]
     },
     "execution_count": 22,
     "metadata": {},
     "output_type": "execute_result"
    }
   ],
   "source": [
    "model_1 = LinearRegression(n_jobs=-1)\n",
    "model_2 = LinearRegression(n_jobs=-1)\n",
    "model_3 = LinearRegression(n_jobs=-1)\n",
    "\n",
    "model_1.fit(features_train_1, target_train_1)\n",
    "model_2.fit(features_train_2, target_train_2)\n",
    "model_3.fit(features_train_3, target_train_3)"
   ]
  },
  {
   "cell_type": "markdown",
   "metadata": {},
   "source": [
    "У нас есть три обученные модели для трех датасетов. Теперь получим предсказания"
   ]
  },
  {
   "cell_type": "code",
   "execution_count": 23,
   "metadata": {},
   "outputs": [],
   "source": [
    "def get_predict(features, target, model):\n",
    "    predictions = model.predict(features)\n",
    "    answers = target.reset_index(drop=True)\n",
    "    rmse = mean_squared_error(answers, predictions) ** 0.5\n",
    "    return round(predictions.mean(), 2), round(rmse, 2), answers, predictions"
   ]
  },
  {
   "cell_type": "code",
   "execution_count": 24,
   "metadata": {},
   "outputs": [
    {
     "name": "stdout",
     "output_type": "stream",
     "text": [
      "Средний запас предсказанного сырья в первом регионе: 92.59\n",
      "RMSE предсказаний по данным из первого региона: 37.58\n",
      "\n",
      "Средний запас предсказанного сырья во втором регионе: 68.73\n",
      "RMSE предсказаний по данным из второго региона: 0.89\n",
      "\n",
      "Средний запас предсказанного сырья в третьем регионе: 94.97\n",
      "RMSE предсказаний по данным из третьего региона: 40.03\n",
      "\n"
     ]
    }
   ],
   "source": [
    "mean_1, rmse_1, answers_1, predictions_1 = get_predict(features_valid_1, target_valid_1, model_1)\n",
    "print('Средний запас предсказанного сырья в первом регионе:', mean_1)\n",
    "print('RMSE предсказаний по данным из первого региона:', rmse_1)\n",
    "print()\n",
    "\n",
    "mean_2, rmse_2, answers_2, predictions_2 = get_predict(features_valid_2, target_valid_2, model_2)\n",
    "print('Средний запас предсказанного сырья во втором регионе:', mean_2)\n",
    "print('RMSE предсказаний по данным из второго региона:', rmse_2)\n",
    "print()\n",
    "\n",
    "mean_3, rmse_3, answers_3, predictions_3 = get_predict(features_valid_3, target_valid_3, model_3)\n",
    "print('Средний запас предсказанного сырья в третьем регионе:', mean_3)\n",
    "print('RMSE предсказаний по данным из третьего региона:', rmse_3)\n",
    "print()"
   ]
  },
  {
   "cell_type": "markdown",
   "metadata": {},
   "source": [
    "### Вывод"
   ]
  },
  {
   "cell_type": "markdown",
   "metadata": {},
   "source": [
    "Средние запасы сырья по предсказанным данным (тыс. баррелей):\n",
    "- в первом регионе: 92.59\n",
    "- во втором регионе: 68.73\n",
    "- в третьем регионе: 94.97\n",
    "\n",
    "Среднеквадратичная ошибка (RMSE) — это метрика, используемая для оценки работы модели регрессии. Этот показатель говорит, насколько точны наши прогнозы и какова величина отклонения от фактических значений.\n",
    "\n",
    "Как видно по результатам RMSE:\n",
    "- для первого региона: 37.58\n",
    "- для второго региона: 0.89\n",
    "- для третьего региона: 40.03\n",
    "\n",
    "У первого и третьего регионов значение метрики высокое (37-40). Получается, что прогнозы для этих регионов нельзя назвать точными, скорее наоборот - совсем не точными. Отклонения от фактических значений довольно большие. А у второго региона тем временем метрика показала высокую точность, так как отклонения от реальных значений минимальны (0.89).\n",
    "\n",
    "Средние запасы сырья по предсказанным данным у первого и третьего регионов выше, чем у второго (92-94 против 68). Но доверять этим данным нельзя, так как метрика RMSE показала, что предсказания моделей первого и третьего регионов далеки от правды. "
   ]
  },
  {
   "cell_type": "markdown",
   "metadata": {},
   "source": [
    "## Подготовка к расчёту прибыли"
   ]
  },
  {
   "cell_type": "markdown",
   "metadata": {},
   "source": [
    "Сохраним ключевые значения для расчётов в отдельных переменных."
   ]
  },
  {
   "cell_type": "code",
   "execution_count": 25,
   "metadata": {},
   "outputs": [],
   "source": [
    "POINTS_NUMBER = 500\n",
    "BEST_POINTS_NUMBER = 200\n",
    "BUDGET = 10**10\n",
    "PRICE = 450_000\n",
    "ITERATIONS_BOOTSTRAP = 1000"
   ]
  },
  {
   "cell_type": "markdown",
   "metadata": {},
   "source": [
    "Рассчитаем достаточный объём сырья для безубыточной разработки новой скважины."
   ]
  },
  {
   "cell_type": "code",
   "execution_count": 26,
   "metadata": {
    "scrolled": true
   },
   "outputs": [
    {
     "name": "stdout",
     "output_type": "stream",
     "text": [
      "Необходимый минимальный объем сырья в разработанной скважине: 111.11 тыс. баррелей.\n"
     ]
    }
   ],
   "source": [
    "budget_one_point = BUDGET / BEST_POINTS_NUMBER\n",
    "min_volume = budget_one_point / PRICE\n",
    "print('Необходимый минимальный объем сырья в разработанной скважине:', round(min_volume, 2), 'тыс. баррелей.')"
   ]
  },
  {
   "cell_type": "markdown",
   "metadata": {},
   "source": [
    "Итак, нашли минимальное среднее количество продукта в месторождениях региона, достаточное для разработки. В каждой разработанной скважине должен быть запас минимум 111.11 тыс. бареллей сырья, чтобы она была безубыточна.\n",
    "\n",
    "Если посмотреть на средние результаты объема сырья в скважинах регионов: в первом регионе: 92.59, во втором регионе: 68.73, в третьем регионе: 94.97, то кажется, что в среднем скважины не имеют достаточно продукта для безубыточности. Но для разработки выбирают 500 скважин, из которых в итоге выбираются 200 лучших. Таким образом среднее значение объема для скважин всего региона некорректно сравнивать, ведь для разработки выбираются точки с лучшими показателями из выборки."
   ]
  },
  {
   "cell_type": "markdown",
   "metadata": {},
   "source": [
    "Напишем функцию для расчёта прибыли по выбранным скважинам и предсказаниям модели:\n",
    "\n",
    "- Выберем скважины с максимальными значениями предсказаний\n",
    "- Просуммируем целевое значение объёма сырья, соответствующее этим предсказаниям\n",
    "- Рассчитаем прибыль для полученного объёма сырья"
   ]
  },
  {
   "cell_type": "code",
   "execution_count": 27,
   "metadata": {},
   "outputs": [],
   "source": [
    "def profit(target, predictions, count=BEST_POINTS_NUMBER, budget=BUDGET, price=PRICE):\n",
    "    BEST_points = pd.Series(predictions).sort_values(ascending=False).head(200)\n",
    "    BEST_points_real = target.iloc[BEST_points.index]\n",
    "    return BEST_points_real.sum() * price - BUDGET"
   ]
  },
  {
   "cell_type": "markdown",
   "metadata": {},
   "source": [
    "### Вывод"
   ]
  },
  {
   "cell_type": "markdown",
   "metadata": {},
   "source": [
    "Итак, подготовились к расчету прибыли. У нас есть константы всех необходимых значений, благодаря которым найдено минимальное среднее количество продукта в месторождениях региона, чтобы месторождение было безубыточным: **111.11 тыс. баррелей**. Это значение больше, чем средние значения объема продукта в скважине по регионам, но надо учитывать тот факт, что разрабатываться будут только месторождения с наибольшим объемом сырья.\n",
    "\n",
    "Также создана функция **profit** для расчета прибыли по выбранным для разработки 200 скважинам."
   ]
  },
  {
   "cell_type": "markdown",
   "metadata": {},
   "source": [
    "## Расчёт прибыли и рисков "
   ]
  },
  {
   "cell_type": "markdown",
   "metadata": {},
   "source": [
    "Воспользуемся созданной функцией для подсчета прибыли, создадим список со значениями прибыли после разработки лучших 200 из 500 месторождений. Выборки месторождений собираются случайно. Таким образом всего 1000 выборок по 500 месторождений получены с помощью процедуры Bootstrap."
   ]
  },
  {
   "cell_type": "code",
   "execution_count": 28,
   "metadata": {},
   "outputs": [],
   "source": [
    "state = np.random.RandomState(12345)\n",
    "\n",
    "values_1 = []\n",
    "\n",
    "for i in range(ITERATIONS_BOOTSTRAP):\n",
    "    target_subsample_1 = pd.Series(answers_1).sample(n=POINTS_NUMBER, replace=True, random_state=state)\n",
    "    pred_subsample_1 = predictions_1[target_subsample_1.index]\n",
    "    prof_1 = profit(target_subsample_1, pred_subsample_1)\n",
    "    values_1.append(prof_1)"
   ]
  },
  {
   "cell_type": "markdown",
   "metadata": {},
   "source": [
    "Теперь у нас есть список с прибылью для каждой из 1000 выборок, собранных из данных первого региона. Найдем 2.5% квантиль, 95% доверительный интервал и среднюю прибыль."
   ]
  },
  {
   "cell_type": "code",
   "execution_count": 29,
   "metadata": {
    "scrolled": false
   },
   "outputs": [
    {
     "name": "stdout",
     "output_type": "stream",
     "text": [
      "Первый регион\n",
      "Средняя прибыль: 396.16 млн руб\n",
      "Вероятность убытков: 6.9 %\n",
      "95% доверительный интервал: (379620315.1479725, 412709654.45676965)\n"
     ]
    }
   ],
   "source": [
    "values_1 = pd.Series(values_1)\n",
    "lower_1 = values_1.quantile(0.025)\n",
    "confidence_interval_1 = st.t.interval(0.95, len(values_1)-1, loc=values_1.mean(), scale=values_1.sem())\n",
    "print('Первый регион')\n",
    "print('Средняя прибыль:', round((values_1.mean()/10**6), 2), 'млн руб')\n",
    "print('Вероятность убытков:', st.percentileofscore(values_1, 0), '%')\n",
    "print('95% доверительный интервал:', confidence_interval_1)"
   ]
  },
  {
   "cell_type": "markdown",
   "metadata": {},
   "source": [
    "Итак, средняя прибыль от разработки скважин в первом регионе примерно 396 млн руб\n",
    "\n",
    "Получается, что 95% выборок месторождений из первого региона в итоге дают прибыль примерно от 379 млн руб до 412 млн руб. \n",
    "\n",
    "Риск получить убыток в этом регионе - 6.9%, значительно больше порога в 2.5%. \n",
    "\n",
    "Следовательно, первый регион нам не подходит, слишком велик риск получить убытки вместо прибыли."
   ]
  },
  {
   "cell_type": "code",
   "execution_count": 30,
   "metadata": {},
   "outputs": [],
   "source": [
    "values_2 = []\n",
    "for i in range(1000):\n",
    "    target_subsample_2 = pd.Series(answers_2).sample(n=500, replace=True, random_state=state)\n",
    "    pred_subsample_2 = predictions_2[target_subsample_2.index]\n",
    "    prof_2 = profit(target_subsample_2, pred_subsample_2)\n",
    "    values_2.append(prof_2)"
   ]
  },
  {
   "cell_type": "code",
   "execution_count": 31,
   "metadata": {},
   "outputs": [
    {
     "name": "stdout",
     "output_type": "stream",
     "text": [
      "Второй регион\n",
      "Средняя прибыль: 461.16 млн руб\n",
      "Вероятность убытков: 0.7 %\n",
      "95% доверительный интервал: (448828936.4815785, 473482698.07290083)\n"
     ]
    }
   ],
   "source": [
    "values_2 = pd.Series(values_2)\n",
    "lower_2 = values_2.quantile(0.025)\n",
    "confidence_interval_2 = st.t.interval(0.95, len(values_2)-1, loc=values_2.mean(), scale=values_2.sem())\n",
    "print('Второй регион')\n",
    "print('Средняя прибыль:', round((values_2.mean()/10**6), 2), 'млн руб')\n",
    "print('Вероятность убытков:', st.percentileofscore(values_2, 0), '%')\n",
    "print('95% доверительный интервал:', confidence_interval_2)"
   ]
  },
  {
   "cell_type": "markdown",
   "metadata": {},
   "source": [
    "Средняя прибыль во втором регионе - примерно 461 млн руб, выше чем в первом.\n",
    "\n",
    "С 95% вероятностью при разработке месторождений из второго региона удастся получить прибыль от 448 до 473 млн руб.\n",
    "\n",
    "Вероятность получить убыток - 0.7%, значительно меньше порога в 2.5%, значит второй регион нам подходит."
   ]
  },
  {
   "cell_type": "code",
   "execution_count": 32,
   "metadata": {},
   "outputs": [],
   "source": [
    "values_3 = []\n",
    "for i in range(1000):\n",
    "    target_subsample_3 = pd.Series(answers_3).sample(n=500, replace=True, random_state=state)\n",
    "    pred_subsample_3 = predictions_3[target_subsample_3.index]\n",
    "    prof_3 = profit(target_subsample_3, pred_subsample_3)\n",
    "    values_3.append(prof_3)"
   ]
  },
  {
   "cell_type": "code",
   "execution_count": 33,
   "metadata": {},
   "outputs": [
    {
     "name": "stdout",
     "output_type": "stream",
     "text": [
      "Третий регион\n",
      "Средняя прибыль: 392.95 млн руб\n",
      "Вероятность убытков: 6.5 %\n",
      "95% доверительный интервал: (376164225.32954943, 409736725.0116595)\n"
     ]
    }
   ],
   "source": [
    "values_3 = pd.Series(values_3)\n",
    "lower_3 = values_3.quantile(0.025)\n",
    "confidence_interval_3 = st.t.interval(0.95, len(values_3)-1, loc=values_3.mean(), scale=values_3.sem())\n",
    "print('Третий регион')\n",
    "print('Средняя прибыль:', round((values_3.mean()/10**6), 2), 'млн руб')\n",
    "print('Вероятность убытков:', st.percentileofscore(values_3, 0), '%')\n",
    "print('95% доверительный интервал:', confidence_interval_3)"
   ]
  },
  {
   "cell_type": "markdown",
   "metadata": {},
   "source": [
    "Средняя прибыль в третьем регионе - примерно 392 млн руб, примерно равна среднему значению прибыли в первом регионе.\n",
    "\n",
    "С 95% вероятностью при разработке месторождений из третьего региона удастся получить прибыль от 376 до 409 млн руб, что также примерно равно значениям из первого региона.\n",
    "\n",
    "Вероятность получить убытки равна 6.5%, что больше порога в 2.5%, значит регион не подходит для целей исследования.\n",
    "\n",
    "На основе полученных результатов для разработки рекомендуется **второй регион**, так как он с наибольшей вероятностью будет наиболее прибыльным (95% прибыль от 448 до 473 млн руб), а риск убытков минимальный, 0.7%. А также среднее значение прибыли самое высокое среди регионов - 461 млн руб."
   ]
  },
  {
   "cell_type": "markdown",
   "metadata": {},
   "source": [
    "## Общий вывод"
   ]
  },
  {
   "cell_type": "markdown",
   "metadata": {},
   "source": [
    "Итак, проведено исследование данных о месторождениях нефти для добывающей компании. Данные содержали информацию, а именно данные о качестве нефти и объеме запасов, по трем регионам, в каждом по 10000 точек. \n",
    "\n",
    "Шаги работы:\n",
    "\n",
    "**1. Загрузили и подготовили данные:** \n",
    "\n",
    "1. Созданы три датафрейма\n",
    "2. Изучена общая информация\n",
    "3. Данные проверены на явные дубликаты, дубликаты не обнаружены\n",
    "4. Удален столбец id, так как он не нужен для решения поставленной задачи\n",
    "5. Построены гистограммы распределения целевого признака product\n",
    "6. Построены тепловые карты корреляции Пирсона для данных по трем регионам\n",
    "\n",
    "**2. Обучили и проверили модель для каждого региона:**\n",
    "\n",
    "1. Разбили данные на обучающую и валидационную выборки в соотношении 75:25\n",
    "2. Обучили модель и сделали предсказания на валидационной выборке\n",
    "3. Сохранили предсказания и правильные ответы на валидационной выборке\n",
    "4. Подсчитали средний запас предсказанного сырья\n",
    "\n",
    "- в первом регионе: 92.59 тыс. баррелей\n",
    "- во втором регионе: 68.73 тыс. баррелей\n",
    "- в третьем регионе: 94.97 тыс. баррелей\n",
    "\n",
    "5. Нашли значения метрики RMSE модели.(Среднеквадратичная ошибка (RMSE) — это метрика, используемая для оценки работы модели регрессии. Этот показатель говорит, насколько точны наши прогнозы и какова величина отклонения от фактических значений.)\n",
    "\n",
    "- для первого региона RMSE: 37.58\n",
    "- для второго региона RMSE: 0.89\n",
    "- для третьего региона RMSE: 40.03\n",
    "\n",
    "У первого и третьего регионов значение метрики RMSE высокое (37-40). Значит предсказания не точные, отклонения от фактических значений высоки. Для данных второго региона метрика показала высокую точность, так как отклонения от реальных значений минимальны (0.89).\n",
    "\n",
    "Средние запасы сырья по предсказанным данным у первого и третьего регионов выше, чем у второго (92-94 против 68). Но доверять этим данным нельзя, так как метрика RMSE показала, что предсказания моделей первого и третьего регионов не точны.\n",
    "\n",
    "\n",
    "**3. Подготовились к расчёту прибыли:**\n",
    "\n",
    "1. Все ключевые значения для расчётов сохранили в отдельных константных переменных\n",
    "2. Рассчитали достаточный объём сырья для безубыточной разработки новой скважины - 111.11. тыс. баррелей \n",
    "\n",
    "Полученное значение больше, чем средние значения объема продукта в скважине по регионам, но надо учитывать тот факт, что разрабатываться будут только месторождения с наибольшим объемом сырья, значит выборка из 200 месторождений для разработки с большой вероятностью будет иметь более высокую среднюю прибыль.\n",
    "\n",
    "**4. Написали функцию для расчёта прибыли по выбранным скважинам и предсказаниям модели**\n",
    "1. Выбрали скважины с максимальными значениями предсказаний\n",
    "2. Просуммировали целевое значение объёма сырья, соответствующее этим предсказаниям\n",
    "3. Рассчитали прибыль для полученного объёма сырья\n",
    "\n",
    "Получили функцию profit, принимающую на вход предсказания, действительные значения, число месторождений, по которым будет считаться выборка, а также бюджет и цену за тыс баррелей, которые имеют выставленные дефолтные значения, соответствующие данным из этого исследования: число месторождений - 200, бюджет - 10 млрд. руб, цена за тыс. баррелей - 450 тыс. руб. \n",
    "\n",
    "**5. Просчитали риски и прибыль для каждого региона:**\n",
    "1. Примените технику Bootstrap с 1000 выборок, чтобы найти распределение прибыли. К каждой выборке применялась функция profit для подсчета прибыли\n",
    "2. Нашли среднюю прибыль, 95%-й доверительный интервал (разброс значений прибыли 95% выборок) и риск убытков (отрицательная прибыль)\n",
    "\n",
    "Результаты для первого региона:\n",
    "- средняя прибыль - 396 млн руб\n",
    "- 95% доверительный интервал - от 379 млн руб до 412 млн руб\n",
    "- вероятность убытков 6.9%\n",
    "\n",
    "Результаты для второго региона:\n",
    "- средняя прибыль - 461 млн руб\n",
    "- 95% доверительный интервал - от 448 млн руб до 473 млн руб\n",
    "- вероятность убытков 0.7%\n",
    "\n",
    "Результаты для третьего региона:\n",
    "- средняя прибыль - 392 млн руб\n",
    "- 95% доверительный интервал - от 376 млн руб до 409 млн руб\n",
    "- вероятность убытков 6.5%\n",
    "\n",
    "Исходя из результатов, для разработки рекомендуется **второй регион**. Так как 99.3% вероятность того, что будет получена прибыль от разработки этого региона, риск убытков минимален - 0.7%. Также средняя прибыль от месторождений в этом регионе наибольшая из трех регионов, как и значения доверительного интервала."
   ]
  }
 ],
 "metadata": {
  "ExecuteTimeLog": [
   {
    "duration": 1032,
    "start_time": "2022-07-16T10:08:21.330Z"
   },
   {
    "duration": 1382,
    "start_time": "2022-07-17T10:07:26.161Z"
   },
   {
    "duration": 1604,
    "start_time": "2022-07-17T10:07:27.545Z"
   },
   {
    "duration": 15,
    "start_time": "2022-07-17T10:07:29.150Z"
   },
   {
    "duration": 13,
    "start_time": "2022-07-17T10:07:29.167Z"
   },
   {
    "duration": 13,
    "start_time": "2022-07-17T10:07:29.183Z"
   },
   {
    "duration": 15,
    "start_time": "2022-07-17T10:07:29.198Z"
   },
   {
    "duration": 66,
    "start_time": "2022-07-17T10:07:29.215Z"
   },
   {
    "duration": 9,
    "start_time": "2022-07-17T10:07:29.282Z"
   },
   {
    "duration": 7,
    "start_time": "2022-07-17T10:07:29.292Z"
   },
   {
    "duration": 6,
    "start_time": "2022-07-17T10:07:29.301Z"
   },
   {
    "duration": 5,
    "start_time": "2022-07-17T10:07:29.309Z"
   },
   {
    "duration": 42,
    "start_time": "2022-07-17T10:07:29.315Z"
   },
   {
    "duration": 21,
    "start_time": "2022-07-17T10:07:29.359Z"
   },
   {
    "duration": 13,
    "start_time": "2022-07-17T10:07:29.383Z"
   },
   {
    "duration": 12,
    "start_time": "2022-07-17T10:07:29.453Z"
   },
   {
    "duration": 87,
    "start_time": "2022-07-17T10:07:29.467Z"
   },
   {
    "duration": 12,
    "start_time": "2022-07-17T10:07:29.556Z"
   },
   {
    "duration": 5,
    "start_time": "2022-07-17T10:07:29.570Z"
   },
   {
    "duration": 595,
    "start_time": "2022-07-17T10:07:29.576Z"
   },
   {
    "duration": 8,
    "start_time": "2022-07-17T10:07:30.173Z"
   },
   {
    "duration": 570,
    "start_time": "2022-07-17T10:07:30.182Z"
   },
   {
    "duration": 8,
    "start_time": "2022-07-17T10:07:30.753Z"
   },
   {
    "duration": 574,
    "start_time": "2022-07-17T10:07:30.762Z"
   },
   {
    "duration": 7,
    "start_time": "2022-07-17T10:07:31.337Z"
   },
   {
    "duration": 1432,
    "start_time": "2022-07-17T23:30:44.742Z"
   },
   {
    "duration": 1642,
    "start_time": "2022-07-17T23:30:46.176Z"
   },
   {
    "duration": 16,
    "start_time": "2022-07-17T23:30:47.819Z"
   },
   {
    "duration": 14,
    "start_time": "2022-07-17T23:30:47.836Z"
   },
   {
    "duration": 13,
    "start_time": "2022-07-17T23:30:47.852Z"
   },
   {
    "duration": 52,
    "start_time": "2022-07-17T23:30:47.867Z"
   },
   {
    "duration": 62,
    "start_time": "2022-07-17T23:30:47.921Z"
   },
   {
    "duration": 47,
    "start_time": "2022-07-17T23:30:47.985Z"
   },
   {
    "duration": 27,
    "start_time": "2022-07-17T23:30:48.034Z"
   },
   {
    "duration": 169,
    "start_time": "2022-07-17T23:30:48.063Z"
   },
   {
    "duration": 187,
    "start_time": "2022-07-17T23:30:48.234Z"
   },
   {
    "duration": 182,
    "start_time": "2022-07-17T23:30:48.423Z"
   },
   {
    "duration": 345,
    "start_time": "2022-07-17T23:30:48.607Z"
   },
   {
    "duration": 299,
    "start_time": "2022-07-17T23:30:48.955Z"
   },
   {
    "duration": 390,
    "start_time": "2022-07-17T23:30:49.256Z"
   },
   {
    "duration": 38,
    "start_time": "2022-07-17T23:30:49.652Z"
   },
   {
    "duration": 4,
    "start_time": "2022-07-17T23:30:49.691Z"
   },
   {
    "duration": 8,
    "start_time": "2022-07-17T23:30:49.696Z"
   },
   {
    "duration": 5,
    "start_time": "2022-07-17T23:30:49.706Z"
   },
   {
    "duration": 6,
    "start_time": "2022-07-17T23:30:49.713Z"
   },
   {
    "duration": 52,
    "start_time": "2022-07-17T23:30:49.720Z"
   },
   {
    "duration": 20,
    "start_time": "2022-07-17T23:30:49.774Z"
   },
   {
    "duration": 3,
    "start_time": "2022-07-17T23:30:49.796Z"
   },
   {
    "duration": 59,
    "start_time": "2022-07-17T23:30:49.800Z"
   },
   {
    "duration": 4,
    "start_time": "2022-07-17T23:30:49.951Z"
   },
   {
    "duration": 99,
    "start_time": "2022-07-17T23:30:49.957Z"
   },
   {
    "duration": 4,
    "start_time": "2022-07-17T23:30:50.058Z"
   },
   {
    "duration": 600,
    "start_time": "2022-07-17T23:30:50.063Z"
   },
   {
    "duration": 9,
    "start_time": "2022-07-17T23:30:50.665Z"
   },
   {
    "duration": 564,
    "start_time": "2022-07-17T23:30:50.676Z"
   },
   {
    "duration": 12,
    "start_time": "2022-07-17T23:30:51.242Z"
   },
   {
    "duration": 568,
    "start_time": "2022-07-17T23:30:51.255Z"
   },
   {
    "duration": 8,
    "start_time": "2022-07-17T23:30:51.824Z"
   }
  ],
  "kernelspec": {
   "display_name": "Python 3 (ipykernel)",
   "language": "python",
   "name": "python3"
  },
  "language_info": {
   "codemirror_mode": {
    "name": "ipython",
    "version": 3
   },
   "file_extension": ".py",
   "mimetype": "text/x-python",
   "name": "python",
   "nbconvert_exporter": "python",
   "pygments_lexer": "ipython3",
   "version": "3.9.13"
  },
  "toc": {
   "base_numbering": 1,
   "nav_menu": {},
   "number_sections": true,
   "sideBar": true,
   "skip_h1_title": true,
   "title_cell": "Содержание",
   "title_sidebar": "Contents",
   "toc_cell": true,
   "toc_position": {
    "height": "calc(100% - 180px)",
    "left": "10px",
    "top": "150px",
    "width": "165px"
   },
   "toc_section_display": true,
   "toc_window_display": false
  }
 },
 "nbformat": 4,
 "nbformat_minor": 2
}
